{
 "cells": [
  {
   "cell_type": "code",
   "execution_count": 26,
   "metadata": {},
   "outputs": [
    {
     "data": {
      "text/html": [
       "<table>\n",
       "<thead><tr><th scope=col>V1</th><th scope=col>V2</th></tr></thead>\n",
       "<tbody>\n",
       "\t<tr><td>2.81</td><td>5.62</td></tr>\n",
       "\t<tr><td>7.14</td><td>8.00</td></tr>\n",
       "\t<tr><td>2.72</td><td>5.44</td></tr>\n",
       "\t<tr><td>3.87</td><td>7.74</td></tr>\n",
       "\t<tr><td>1.90</td><td>3.80</td></tr>\n",
       "\t<tr><td>7.82</td><td>8.00</td></tr>\n",
       "</tbody>\n",
       "</table>\n"
      ],
      "text/latex": [
       "\\begin{tabular}{r|ll}\n",
       " V1 & V2\\\\\n",
       "\\hline\n",
       "\t 2.81 & 5.62\\\\\n",
       "\t 7.14 & 8.00\\\\\n",
       "\t 2.72 & 5.44\\\\\n",
       "\t 3.87 & 7.74\\\\\n",
       "\t 1.90 & 3.80\\\\\n",
       "\t 7.82 & 8.00\\\\\n",
       "\\end{tabular}\n"
      ],
      "text/markdown": [
       "\n",
       "| V1 | V2 |\n",
       "|---|---|\n",
       "| 2.81 | 5.62 |\n",
       "| 7.14 | 8.00 |\n",
       "| 2.72 | 5.44 |\n",
       "| 3.87 | 7.74 |\n",
       "| 1.90 | 3.80 |\n",
       "| 7.82 | 8.00 |\n",
       "\n"
      ],
      "text/plain": [
       "  V1   V2  \n",
       "1 2.81 5.62\n",
       "2 7.14 8.00\n",
       "3 2.72 5.44\n",
       "4 3.87 7.74\n",
       "5 1.90 3.80\n",
       "6 7.82 8.00"
      ]
     },
     "metadata": {},
     "output_type": "display_data"
    },
    {
     "name": "stdout",
     "output_type": "stream",
     "text": [
      "[1] \"Seems to be a ceiling after about 4 hours of charging time (V1) - Objective: Set every observation greater than |4| (V1) to be predicted as |8| and then create a linear regression model for all observations less than |4| (V1)\"\n"
     ]
    },
    {
     "data": {
      "image/png": "[encoded data removed]",
      "text/plain": [
       "plot without title"
      ]
     },
     "metadata": {},
     "output_type": "display_data"
    }
   ],
   "source": [
    "# hackerrank.com/challenges/battery/problem\n",
    "# Data: https://s3.amazonaws.com/hr-testcases/399/assets/trainingdata.txt\n",
    "shhh <- suppressPackageStartupMessages\n",
    "BatteryData <- read.table(file = url(\"https://s3.amazonaws.com/hr-testcases/399/assets/trainingdata.txt\"), strip.white = TRUE, sep = ',', header = FALSE, skip = 0)\n",
    "head(BatteryData)\n",
    "\n",
    "\n",
    "library(ggplot2)\n",
    "library(tidyquant)\n",
    "shhh(library(dplyr))\n",
    "\n",
    "BatteryData %>%\n",
    "  ggplot(aes(x = V1, y = V2)) + \n",
    "  geom_point() +\n",
    "  stat_smooth(method = \"lm\", col = \"red\") +\n",
    "  geom_vline(xintercept = 4) +\n",
    "  theme_tq()\n",
    "\n",
    "print(\"Seems to be a ceiling after about 4 hours of charging time (V1) - Objective: Set every observation greater than |4| (V1) to be predicted as |8| and then create a linear regression model for all observations less than |4| (V1)\")"
   ]
  },
  {
   "cell_type": "code",
   "execution_count": 27,
   "metadata": {},
   "outputs": [],
   "source": [
    "LinearPredictionModel <- function(TestData){\n",
    "  TrainData <- read.table(file = url(\"https://s3.amazonaws.com/hr-testcases/399/assets/trainingdata.txt\"), strip.white = TRUE, sep = ',', header = FALSE, skip = 0)\n",
    "  \n",
    "  TrainData$LessThanFour <- ifelse(TrainData[, 2] < 4, 1, 0)\n",
    "  \n",
    "  LMData <- TrainData %>%\n",
    "    filter(LessThanFour == 1)\n",
    "  \n",
    "  LinearModel <- lm(V1 ~ V2, data = LMData) \n",
    "  \n",
    "  TestData <- data.frame(V2 = TestData)\n",
    "  \n",
    "  STDOUT <- ifelse(TestData < 4, predict(LinearModel, newdata = TestData), 8)\n",
    "  \n",
    "  return(cat(STDOUT))\n",
    "}"
   ]
  },
  {
   "cell_type": "code",
   "execution_count": 28,
   "metadata": {},
   "outputs": [
    {
     "name": "stdout",
     "output_type": "stream",
     "text": [
      "[1] \"Any observation which is greater than 4 automatically gets assigned an 8, all observations less than 4 gets put through a linear regression model\"\n",
      "8 8 0.5 0.1 1.75"
     ]
    }
   ],
   "source": [
    "# Test some custom prediction times:\n",
    "\n",
    "print(\"Any observation which is greater than 4 automatically gets assigned an 8, all observations less than 4 gets put through a linear regression model\")\n",
    "TestData <- c(5, 8, 1, 0.2, 3.5)\n",
    "LinearPredictionModel(TestData)"
   ]
  }
 ],
 "metadata": {
  "kernelspec": {
   "display_name": "R",
   "language": "R",
   "name": "ir"
  },
  "language_info": {
   "codemirror_mode": "r",
   "file_extension": ".r",
   "mimetype": "text/x-r-source",
   "name": "R",
   "pygments_lexer": "r",
   "version": "3.6.1"
  }
 },
 "nbformat": 4,
 "nbformat_minor": 2
}
