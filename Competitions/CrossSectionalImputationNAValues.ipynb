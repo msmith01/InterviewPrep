{
 "cells": [
  {
   "cell_type": "code",
   "execution_count": 38,
   "metadata": {},
   "outputs": [
    {
     "data": {
      "text/html": [
       "<table>\n",
       "<thead><tr><th scope=col>Sepal.Length</th><th scope=col>Sepal.Width</th><th scope=col>Petal.Length</th><th scope=col>Petal.Width</th><th scope=col>Species</th></tr></thead>\n",
       "<tbody>\n",
       "\t<tr><td>5.1   </td><td>3.5   </td><td>1.4   </td><td>0.2   </td><td>setosa</td></tr>\n",
       "\t<tr><td>4.9   </td><td>3.0   </td><td>1.4   </td><td>0.2   </td><td>setosa</td></tr>\n",
       "\t<tr><td>4.7   </td><td>3.2   </td><td>1.3   </td><td>0.2   </td><td>setosa</td></tr>\n",
       "\t<tr><td>4.6   </td><td>3.1   </td><td>1.5   </td><td>0.2   </td><td>setosa</td></tr>\n",
       "\t<tr><td>5.0   </td><td>3.6   </td><td>1.4   </td><td>0.2   </td><td>setosa</td></tr>\n",
       "\t<tr><td>5.4   </td><td>3.9   </td><td>1.7   </td><td>0.4   </td><td>setosa</td></tr>\n",
       "</tbody>\n",
       "</table>\n"
      ],
      "text/latex": [
       "\\begin{tabular}{r|lllll}\n",
       " Sepal.Length & Sepal.Width & Petal.Length & Petal.Width & Species\\\\\n",
       "\\hline\n",
       "\t 5.1    & 3.5    & 1.4    & 0.2    & setosa\\\\\n",
       "\t 4.9    & 3.0    & 1.4    & 0.2    & setosa\\\\\n",
       "\t 4.7    & 3.2    & 1.3    & 0.2    & setosa\\\\\n",
       "\t 4.6    & 3.1    & 1.5    & 0.2    & setosa\\\\\n",
       "\t 5.0    & 3.6    & 1.4    & 0.2    & setosa\\\\\n",
       "\t 5.4    & 3.9    & 1.7    & 0.4    & setosa\\\\\n",
       "\\end{tabular}\n"
      ],
      "text/markdown": [
       "\n",
       "| Sepal.Length | Sepal.Width | Petal.Length | Petal.Width | Species |\n",
       "|---|---|---|---|---|\n",
       "| 5.1    | 3.5    | 1.4    | 0.2    | setosa |\n",
       "| 4.9    | 3.0    | 1.4    | 0.2    | setosa |\n",
       "| 4.7    | 3.2    | 1.3    | 0.2    | setosa |\n",
       "| 4.6    | 3.1    | 1.5    | 0.2    | setosa |\n",
       "| 5.0    | 3.6    | 1.4    | 0.2    | setosa |\n",
       "| 5.4    | 3.9    | 1.7    | 0.4    | setosa |\n",
       "\n"
      ],
      "text/plain": [
       "  Sepal.Length Sepal.Width Petal.Length Petal.Width Species\n",
       "1 5.1          3.5         1.4          0.2         setosa \n",
       "2 4.9          3.0         1.4          0.2         setosa \n",
       "3 4.7          3.2         1.3          0.2         setosa \n",
       "4 4.6          3.1         1.5          0.2         setosa \n",
       "5 5.0          3.6         1.4          0.2         setosa \n",
       "6 5.4          3.9         1.7          0.4         setosa "
      ]
     },
     "metadata": {},
     "output_type": "display_data"
    }
   ],
   "source": [
    "# Load in the data\n",
    "library(missForest)\n",
    "data(iris)\n",
    "data <- iris\n",
    "head(data)"
   ]
  },
  {
   "cell_type": "code",
   "execution_count": 39,
   "metadata": {},
   "outputs": [
    {
     "name": "stdout",
     "output_type": "stream",
     "text": [
      "[1] \"Create some random missing data\"\n"
     ]
    },
    {
     "data": {
      "text/html": [
       "<table>\n",
       "<thead><tr><th scope=col>Sepal.Length</th><th scope=col>Sepal.Width</th><th scope=col>Petal.Length</th><th scope=col>Petal.Width</th><th scope=col>Species</th></tr></thead>\n",
       "<tbody>\n",
       "\t<tr><td> NA   </td><td> NA   </td><td>1.4   </td><td>0.2   </td><td>setosa</td></tr>\n",
       "\t<tr><td> NA   </td><td>3.0   </td><td> NA   </td><td>0.2   </td><td>setosa</td></tr>\n",
       "\t<tr><td>4.7   </td><td>3.2   </td><td>1.3   </td><td>0.2   </td><td>NA    </td></tr>\n",
       "\t<tr><td>4.6   </td><td>3.1   </td><td>1.5   </td><td> NA   </td><td>setosa</td></tr>\n",
       "\t<tr><td>5.0   </td><td>3.6   </td><td>1.4   </td><td>0.2   </td><td>setosa</td></tr>\n",
       "\t<tr><td>5.4   </td><td>3.9   </td><td>1.7   </td><td> NA   </td><td>setosa</td></tr>\n",
       "</tbody>\n",
       "</table>\n"
      ],
      "text/latex": [
       "\\begin{tabular}{r|lllll}\n",
       " Sepal.Length & Sepal.Width & Petal.Length & Petal.Width & Species\\\\\n",
       "\\hline\n",
       "\t  NA    &  NA    & 1.4    & 0.2    & setosa\\\\\n",
       "\t  NA    & 3.0    &  NA    & 0.2    & setosa\\\\\n",
       "\t 4.7    & 3.2    & 1.3    & 0.2    & NA    \\\\\n",
       "\t 4.6    & 3.1    & 1.5    &  NA    & setosa\\\\\n",
       "\t 5.0    & 3.6    & 1.4    & 0.2    & setosa\\\\\n",
       "\t 5.4    & 3.9    & 1.7    &  NA    & setosa\\\\\n",
       "\\end{tabular}\n"
      ],
      "text/markdown": [
       "\n",
       "| Sepal.Length | Sepal.Width | Petal.Length | Petal.Width | Species |\n",
       "|---|---|---|---|---|\n",
       "|  NA    |  NA    | 1.4    | 0.2    | setosa |\n",
       "|  NA    | 3.0    |  NA    | 0.2    | setosa |\n",
       "| 4.7    | 3.2    | 1.3    | 0.2    | NA     |\n",
       "| 4.6    | 3.1    | 1.5    |  NA    | setosa |\n",
       "| 5.0    | 3.6    | 1.4    | 0.2    | setosa |\n",
       "| 5.4    | 3.9    | 1.7    |  NA    | setosa |\n",
       "\n"
      ],
      "text/plain": [
       "  Sepal.Length Sepal.Width Petal.Length Petal.Width Species\n",
       "1  NA           NA         1.4          0.2         setosa \n",
       "2  NA          3.0          NA          0.2         setosa \n",
       "3 4.7          3.2         1.3          0.2         NA     \n",
       "4 4.6          3.1         1.5           NA         setosa \n",
       "5 5.0          3.6         1.4          0.2         setosa \n",
       "6 5.4          3.9         1.7           NA         setosa "
      ]
     },
     "metadata": {},
     "output_type": "display_data"
    }
   ],
   "source": [
    "# create random missing variables\n",
    "data <- prodNA(iris, noNA = 0.2)\n",
    "print(\"Create some random missing data\")\n",
    "head(data)"
   ]
  },
  {
   "cell_type": "code",
   "execution_count": 40,
   "metadata": {},
   "outputs": [
    {
     "name": "stdout",
     "output_type": "stream",
     "text": [
      "  missForest iteration 1 in progress...done!\n",
      "  missForest iteration 2 in progress...done!\n",
      "  missForest iteration 3 in progress...done!\n",
      "  missForest iteration 4 in progress...done!\n",
      "  missForest iteration 5 in progress...done!\n",
      "  missForest iteration 6 in progress...done!\n"
     ]
    },
    {
     "data": {
      "text/html": [
       "<table>\n",
       "<thead><tr><th scope=col>Sepal.Length</th><th scope=col>Sepal.Width</th><th scope=col>Petal.Length</th><th scope=col>Petal.Width</th><th scope=col>Species</th></tr></thead>\n",
       "<tbody>\n",
       "\t<tr><td>4.928147 </td><td>3.308692 </td><td>1.400000 </td><td>0.2000000</td><td>setosa   </td></tr>\n",
       "\t<tr><td>4.700422 </td><td>3.000000 </td><td>1.421673 </td><td>0.2000000</td><td>setosa   </td></tr>\n",
       "\t<tr><td>4.700000 </td><td>3.200000 </td><td>1.300000 </td><td>0.2000000</td><td>setosa   </td></tr>\n",
       "\t<tr><td>4.600000 </td><td>3.100000 </td><td>1.500000 </td><td>0.2027500</td><td>setosa   </td></tr>\n",
       "\t<tr><td>5.000000 </td><td>3.600000 </td><td>1.400000 </td><td>0.2000000</td><td>setosa   </td></tr>\n",
       "\t<tr><td>5.400000 </td><td>3.900000 </td><td>1.700000 </td><td>0.3685833</td><td>setosa   </td></tr>\n",
       "</tbody>\n",
       "</table>\n"
      ],
      "text/latex": [
       "\\begin{tabular}{r|lllll}\n",
       " Sepal.Length & Sepal.Width & Petal.Length & Petal.Width & Species\\\\\n",
       "\\hline\n",
       "\t 4.928147  & 3.308692  & 1.400000  & 0.2000000 & setosa   \\\\\n",
       "\t 4.700422  & 3.000000  & 1.421673  & 0.2000000 & setosa   \\\\\n",
       "\t 4.700000  & 3.200000  & 1.300000  & 0.2000000 & setosa   \\\\\n",
       "\t 4.600000  & 3.100000  & 1.500000  & 0.2027500 & setosa   \\\\\n",
       "\t 5.000000  & 3.600000  & 1.400000  & 0.2000000 & setosa   \\\\\n",
       "\t 5.400000  & 3.900000  & 1.700000  & 0.3685833 & setosa   \\\\\n",
       "\\end{tabular}\n"
      ],
      "text/markdown": [
       "\n",
       "| Sepal.Length | Sepal.Width | Petal.Length | Petal.Width | Species |\n",
       "|---|---|---|---|---|\n",
       "| 4.928147  | 3.308692  | 1.400000  | 0.2000000 | setosa    |\n",
       "| 4.700422  | 3.000000  | 1.421673  | 0.2000000 | setosa    |\n",
       "| 4.700000  | 3.200000  | 1.300000  | 0.2000000 | setosa    |\n",
       "| 4.600000  | 3.100000  | 1.500000  | 0.2027500 | setosa    |\n",
       "| 5.000000  | 3.600000  | 1.400000  | 0.2000000 | setosa    |\n",
       "| 5.400000  | 3.900000  | 1.700000  | 0.3685833 | setosa    |\n",
       "\n"
      ],
      "text/plain": [
       "  Sepal.Length Sepal.Width Petal.Length Petal.Width Species\n",
       "1 4.928147     3.308692    1.400000     0.2000000   setosa \n",
       "2 4.700422     3.000000    1.421673     0.2000000   setosa \n",
       "3 4.700000     3.200000    1.300000     0.2000000   setosa \n",
       "4 4.600000     3.100000    1.500000     0.2027500   setosa \n",
       "5 5.000000     3.600000    1.400000     0.2000000   setosa \n",
       "6 5.400000     3.900000    1.700000     0.3685833   setosa "
      ]
     },
     "metadata": {},
     "output_type": "display_data"
    },
    {
     "name": "stdout",
     "output_type": "stream",
     "text": [
      "[1] \"Not too bad!\"\n"
     ]
    }
   ],
   "source": [
    "# Model 1: RandomForest Imputation:\n",
    "# Create a function to impute the random missing values\n",
    "ImputeData <- function(InputData){\n",
    "  ImputedData <- missForest(InputData, mtry = floor(sqrt(ncol(InputData))), ntree = 100)\n",
    "  ImputedData <- ImputedData$ximp\n",
    "  return(ImputedData)\n",
    "}\n",
    "\n",
    "ImputedData <- ImputeData(data)\n",
    "head(ImputedData)\n",
    "print(\"Not too bad!\")"
   ]
  },
  {
   "cell_type": "code",
   "execution_count": 41,
   "metadata": {},
   "outputs": [],
   "source": [
    "# Upload Knn Imputation:"
   ]
  }
 ],
 "metadata": {
  "kernelspec": {
   "display_name": "R",
   "language": "R",
   "name": "ir"
  },
  "language_info": {
   "codemirror_mode": "r",
   "file_extension": ".r",
   "mimetype": "text/x-r-source",
   "name": "R",
   "pygments_lexer": "r",
   "version": "3.6.1"
  }
 },
 "nbformat": 4,
 "nbformat_minor": 2
}
