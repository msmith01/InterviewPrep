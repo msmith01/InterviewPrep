{
 "cells": [
  {
   "cell_type": "code",
   "execution_count": 51,
   "metadata": {},
   "outputs": [
    {
     "data": {
      "text/html": [
       "<table>\n",
       "<thead><tr><th scope=col>price</th><th scope=col>lotsize</th><th scope=col>bedrooms</th><th scope=col>bathrooms</th><th scope=col>stories</th><th scope=col>driveway</th><th scope=col>recreation</th><th scope=col>fullbase</th><th scope=col>gasheat</th><th scope=col>aircon</th><th scope=col>garage</th><th scope=col>prefer</th></tr></thead>\n",
       "<tbody>\n",
       "\t<tr><td>42000</td><td>5850 </td><td>3    </td><td>1    </td><td>2    </td><td>2    </td><td>1    </td><td>2    </td><td>1    </td><td>1    </td><td>1    </td><td>1    </td></tr>\n",
       "\t<tr><td>38500</td><td>4000 </td><td>2    </td><td>1    </td><td>1    </td><td>2    </td><td>1    </td><td>1    </td><td>1    </td><td>1    </td><td>0    </td><td>1    </td></tr>\n",
       "\t<tr><td>49500</td><td>3060 </td><td>3    </td><td>1    </td><td>1    </td><td>2    </td><td>1    </td><td>1    </td><td>1    </td><td>1    </td><td>0    </td><td>1    </td></tr>\n",
       "\t<tr><td>60500</td><td>6650 </td><td>3    </td><td>1    </td><td>2    </td><td>2    </td><td>2    </td><td>1    </td><td>1    </td><td>1    </td><td>0    </td><td>1    </td></tr>\n",
       "\t<tr><td>61000</td><td>6360 </td><td>2    </td><td>1    </td><td>1    </td><td>2    </td><td>1    </td><td>1    </td><td>1    </td><td>1    </td><td>0    </td><td>1    </td></tr>\n",
       "\t<tr><td>66000</td><td>4160 </td><td>3    </td><td>1    </td><td>1    </td><td>2    </td><td>2    </td><td>2    </td><td>1    </td><td>2    </td><td>0    </td><td>1    </td></tr>\n",
       "</tbody>\n",
       "</table>\n"
      ],
      "text/latex": [
       "\\begin{tabular}{r|llllllllllll}\n",
       " price & lotsize & bedrooms & bathrooms & stories & driveway & recreation & fullbase & gasheat & aircon & garage & prefer\\\\\n",
       "\\hline\n",
       "\t 42000 & 5850  & 3     & 1     & 2     & 2     & 1     & 2     & 1     & 1     & 1     & 1    \\\\\n",
       "\t 38500 & 4000  & 2     & 1     & 1     & 2     & 1     & 1     & 1     & 1     & 0     & 1    \\\\\n",
       "\t 49500 & 3060  & 3     & 1     & 1     & 2     & 1     & 1     & 1     & 1     & 0     & 1    \\\\\n",
       "\t 60500 & 6650  & 3     & 1     & 2     & 2     & 2     & 1     & 1     & 1     & 0     & 1    \\\\\n",
       "\t 61000 & 6360  & 2     & 1     & 1     & 2     & 1     & 1     & 1     & 1     & 0     & 1    \\\\\n",
       "\t 66000 & 4160  & 3     & 1     & 1     & 2     & 2     & 2     & 1     & 2     & 0     & 1    \\\\\n",
       "\\end{tabular}\n"
      ],
      "text/markdown": [
       "\n",
       "| price | lotsize | bedrooms | bathrooms | stories | driveway | recreation | fullbase | gasheat | aircon | garage | prefer |\n",
       "|---|---|---|---|---|---|---|---|---|---|---|---|\n",
       "| 42000 | 5850  | 3     | 1     | 2     | 2     | 1     | 2     | 1     | 1     | 1     | 1     |\n",
       "| 38500 | 4000  | 2     | 1     | 1     | 2     | 1     | 1     | 1     | 1     | 0     | 1     |\n",
       "| 49500 | 3060  | 3     | 1     | 1     | 2     | 1     | 1     | 1     | 1     | 0     | 1     |\n",
       "| 60500 | 6650  | 3     | 1     | 2     | 2     | 2     | 1     | 1     | 1     | 0     | 1     |\n",
       "| 61000 | 6360  | 2     | 1     | 1     | 2     | 1     | 1     | 1     | 1     | 0     | 1     |\n",
       "| 66000 | 4160  | 3     | 1     | 1     | 2     | 2     | 2     | 1     | 2     | 0     | 1     |\n",
       "\n"
      ],
      "text/plain": [
       "  price lotsize bedrooms bathrooms stories driveway recreation fullbase gasheat\n",
       "1 42000 5850    3        1         2       2        1          2        1      \n",
       "2 38500 4000    2        1         1       2        1          1        1      \n",
       "3 49500 3060    3        1         1       2        1          1        1      \n",
       "4 60500 6650    3        1         2       2        2          1        1      \n",
       "5 61000 6360    2        1         1       2        1          1        1      \n",
       "6 66000 4160    3        1         1       2        2          2        1      \n",
       "  aircon garage prefer\n",
       "1 1      1      1     \n",
       "2 1      0      1     \n",
       "3 1      0      1     \n",
       "4 1      0      1     \n",
       "5 1      0      1     \n",
       "6 2      0      1     "
      ]
     },
     "metadata": {},
     "output_type": "display_data"
    }
   ],
   "source": [
    "# Regression problem XGBoost\n",
    "shhh <- suppressPackageStartupMessages\n",
    "shhh(library(AER))\n",
    "shhh(library(car))\n",
    "shhh(library(dplyr))\n",
    "shhh(library(xgboost))\n",
    "shhh(library(tidyquant))\n",
    "shhh(library(Metrics))\n",
    "\n",
    "data(\"HousePrices\")\n",
    "\n",
    "data <- HousePrices %>%\n",
    "  mutate_if(is.factor, as.numeric)\n",
    "\n",
    "head(data)"
   ]
  },
  {
   "cell_type": "code",
   "execution_count": 52,
   "metadata": {},
   "outputs": [
    {
     "data": {
      "text/html": [
       "'Train Dimensions'"
      ],
      "text/latex": [
       "'Train Dimensions'"
      ],
      "text/markdown": [
       "'Train Dimensions'"
      ],
      "text/plain": [
       "[1] \"Train Dimensions\""
      ]
     },
     "metadata": {},
     "output_type": "display_data"
    },
    {
     "data": {
      "text/html": [
       "<ol class=list-inline>\n",
       "\t<li>436</li>\n",
       "\t<li>12</li>\n",
       "</ol>\n"
      ],
      "text/latex": [
       "\\begin{enumerate*}\n",
       "\\item 436\n",
       "\\item 12\n",
       "\\end{enumerate*}\n"
      ],
      "text/markdown": [
       "1. 436\n",
       "2. 12\n",
       "\n",
       "\n"
      ],
      "text/plain": [
       "[1] 436  12"
      ]
     },
     "metadata": {},
     "output_type": "display_data"
    },
    {
     "data": {
      "text/html": [
       "'Test Dimensions'"
      ],
      "text/latex": [
       "'Test Dimensions'"
      ],
      "text/markdown": [
       "'Test Dimensions'"
      ],
      "text/plain": [
       "[1] \"Test Dimensions\""
      ]
     },
     "metadata": {},
     "output_type": "display_data"
    },
    {
     "data": {
      "text/html": [
       "<ol class=list-inline>\n",
       "\t<li>110</li>\n",
       "\t<li>12</li>\n",
       "</ol>\n"
      ],
      "text/latex": [
       "\\begin{enumerate*}\n",
       "\\item 110\n",
       "\\item 12\n",
       "\\end{enumerate*}\n"
      ],
      "text/markdown": [
       "1. 110\n",
       "2. 12\n",
       "\n",
       "\n"
      ],
      "text/plain": [
       "[1] 110  12"
      ]
     },
     "metadata": {},
     "output_type": "display_data"
    }
   ],
   "source": [
    "####################################################################################\n",
    "# For this example split between train and test\n",
    "smp_size <- floor(nrow(data) * 0.80)\n",
    "\n",
    "train_ind <- sample(seq_len(nrow(data)), size = smp_size)\n",
    "\n",
    "train <- data[train_ind, ]\n",
    "test <- data[-train_ind, ]\n",
    "\n",
    "paste(\"Train Dimensions\"); dim(train)\n",
    "paste(\"Test Dimensions\"); dim(test)\n",
    "####################################################################################"
   ]
  },
  {
   "cell_type": "code",
   "execution_count": 53,
   "metadata": {},
   "outputs": [],
   "source": [
    "####################################################################################\n",
    "predictHouseSales <- function(train_data, test_data){\n",
    "  x_train <- subset(train_data, select = c(-price))\n",
    "  y_train <- subset(train_data, select = c(price)) %>% pull(price)\n",
    "  \n",
    "  x_test <- subset(test_data, select = c(-price))\n",
    "  y_test <- subset(test_data, select = c(price)) %>% pull(price)\n",
    "  \n",
    "  dtrain <- xgb.DMatrix(data = as.matrix(x_train), label = y_train, missing = \"NaN\")\n",
    "  dtest <- xgb.DMatrix(data = as.matrix(x_test), missing = \"NaN\")\n",
    "  \n",
    "  params <- list(\n",
    "    \"eta\" = 0.1, \n",
    "    \"max_depth\" = 5, \n",
    "    \"objective\" = \"reg:linear\",\n",
    "    \"eval_metric\"= \"rmse\"\n",
    "    )\n",
    "  \n",
    "  xgb.model <- xgb.train(params, dtrain, nrounds = 100)\n",
    "  \n",
    "  return(predict(xgb.model, newdata = dtest))\n",
    "  \n",
    "}\n",
    "\n",
    "myPredictions <- predictHouseSales(train, test)\n",
    "####################################################################################"
   ]
  },
  {
   "cell_type": "code",
   "execution_count": 54,
   "metadata": {},
   "outputs": [
    {
     "data": {
      "text/html": [
       "<table>\n",
       "<thead><tr><th scope=col>rmse(myPreds, price)</th></tr></thead>\n",
       "<tbody>\n",
       "\t<tr><td>14587.14</td></tr>\n",
       "</tbody>\n",
       "</table>\n"
      ],
      "text/latex": [
       "\\begin{tabular}{r|l}\n",
       " rmse(myPreds, price)\\\\\n",
       "\\hline\n",
       "\t 14587.14\\\\\n",
       "\\end{tabular}\n"
      ],
      "text/markdown": [
       "\n",
       "| rmse(myPreds, price) |\n",
       "|---|\n",
       "| 14587.14 |\n",
       "\n"
      ],
      "text/plain": [
       "  rmse(myPreds, price)\n",
       "1 14587.14            "
      ]
     },
     "metadata": {},
     "output_type": "display_data"
    }
   ],
   "source": [
    "myPredictions %>%\n",
    "  data.frame() %>%\n",
    "  setNames(c(\"myPreds\")) %>%\n",
    "  mutate(myPreds = round(myPreds, 0)) %>%\n",
    "  bind_cols(test) %>%\n",
    "  select(myPreds, price) %>%\n",
    "  summarise(rmse(myPreds, price))"
   ]
  },
  {
   "cell_type": "code",
   "execution_count": 55,
   "metadata": {},
   "outputs": [
    {
     "data": {
      "image/png": "[encoded data removed]",
      "text/plain": [
       "plot without title"
      ]
     },
     "metadata": {},
     "output_type": "display_data"
    }
   ],
   "source": [
    "myPredictions %>%\n",
    "  data.frame() %>%\n",
    "  setNames(c(\"myPreds\")) %>%\n",
    "  mutate(myPreds = round(myPreds, 0)) %>%\n",
    "  bind_cols(test) %>%\n",
    "  select(myPreds, price) %>%\n",
    "  ggplot(aes(x = price, y = myPreds)) +\n",
    "  geom_point() +\n",
    "  geom_smooth(method = 'lm') +\n",
    "  ggtitle(\"My predictions vs Actual Price\") +\n",
    "  theme_tq()\n"
   ]
  },
  {
   "cell_type": "code",
   "execution_count": null,
   "metadata": {},
   "outputs": [],
   "source": []
  }
 ],
 "metadata": {
  "kernelspec": {
   "display_name": "R",
   "language": "R",
   "name": "ir"
  },
  "language_info": {
   "codemirror_mode": "r",
   "file_extension": ".r",
   "mimetype": "text/x-r-source",
   "name": "R",
   "pygments_lexer": "r",
   "version": "3.6.1"
  }
 },
 "nbformat": 4,
 "nbformat_minor": 2
}
