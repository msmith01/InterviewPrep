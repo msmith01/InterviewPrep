{
 "cells": [
  {
   "cell_type": "code",
   "execution_count": 3,
   "metadata": {},
   "outputs": [],
   "source": [
    "###################################################################################################\n",
    "# https://www.hackerrank.com/contests/gs-codesprint-2018/challenges/car-popularity-prediction\n",
    "shhh <- suppressPackageStartupMessages\n",
    "# This code was written in base R as much as possible to be run on an external computer with a few exceptions.\n",
    "\n",
    "library(xgboost) # for the XGBoost model\n",
    "shhh(library(dplyr)) # for magrittr pipe functionality and dplyr mutatue functionality\n",
    "library(caret) # for confusionMatrix\n",
    "###################################################################################################"
   ]
  },
  {
   "cell_type": "code",
   "execution_count": 6,
   "metadata": {},
   "outputs": [
    {
     "data": {
      "text/html": [
       "<table>\n",
       "<thead><tr><th scope=col>buying_price</th><th scope=col>maintainence_cost</th><th scope=col>number_of_doors</th><th scope=col>number_of_seats</th><th scope=col>luggage_boot_size</th><th scope=col>safety_rating</th><th scope=col>popularity</th></tr></thead>\n",
       "<tbody>\n",
       "\t<tr><td>3</td><td>2</td><td>4</td><td>2</td><td>2</td><td>2</td><td>1</td></tr>\n",
       "\t<tr><td>3</td><td>2</td><td>2</td><td>5</td><td>2</td><td>1</td><td>1</td></tr>\n",
       "\t<tr><td>1</td><td>4</td><td>2</td><td>5</td><td>1</td><td>3</td><td>1</td></tr>\n",
       "\t<tr><td>4</td><td>4</td><td>2</td><td>2</td><td>1</td><td>2</td><td>1</td></tr>\n",
       "\t<tr><td>3</td><td>3</td><td>3</td><td>4</td><td>3</td><td>3</td><td>2</td></tr>\n",
       "\t<tr><td>2</td><td>1</td><td>2</td><td>2</td><td>1</td><td>1</td><td>1</td></tr>\n",
       "</tbody>\n",
       "</table>\n"
      ],
      "text/latex": [
       "\\begin{tabular}{r|lllllll}\n",
       " buying\\_price & maintainence\\_cost & number\\_of\\_doors & number\\_of\\_seats & luggage\\_boot\\_size & safety\\_rating & popularity\\\\\n",
       "\\hline\n",
       "\t 3 & 2 & 4 & 2 & 2 & 2 & 1\\\\\n",
       "\t 3 & 2 & 2 & 5 & 2 & 1 & 1\\\\\n",
       "\t 1 & 4 & 2 & 5 & 1 & 3 & 1\\\\\n",
       "\t 4 & 4 & 2 & 2 & 1 & 2 & 1\\\\\n",
       "\t 3 & 3 & 3 & 4 & 3 & 3 & 2\\\\\n",
       "\t 2 & 1 & 2 & 2 & 1 & 1 & 1\\\\\n",
       "\\end{tabular}\n"
      ],
      "text/markdown": [
       "\n",
       "| buying_price | maintainence_cost | number_of_doors | number_of_seats | luggage_boot_size | safety_rating | popularity |\n",
       "|---|---|---|---|---|---|---|\n",
       "| 3 | 2 | 4 | 2 | 2 | 2 | 1 |\n",
       "| 3 | 2 | 2 | 5 | 2 | 1 | 1 |\n",
       "| 1 | 4 | 2 | 5 | 1 | 3 | 1 |\n",
       "| 4 | 4 | 2 | 2 | 1 | 2 | 1 |\n",
       "| 3 | 3 | 3 | 4 | 3 | 3 | 2 |\n",
       "| 2 | 1 | 2 | 2 | 1 | 1 | 1 |\n",
       "\n"
      ],
      "text/plain": [
       "  buying_price maintainence_cost number_of_doors number_of_seats\n",
       "1 3            2                 4               2              \n",
       "2 3            2                 2               5              \n",
       "3 1            4                 2               5              \n",
       "4 4            4                 2               2              \n",
       "5 3            3                 3               4              \n",
       "6 2            1                 2               2              \n",
       "  luggage_boot_size safety_rating popularity\n",
       "1 2                 2             1         \n",
       "2 2                 1             1         \n",
       "3 1                 3             1         \n",
       "4 1                 2             1         \n",
       "5 3                 3             2         \n",
       "6 1                 1             1         "
      ]
     },
     "metadata": {},
     "output_type": "display_data"
    },
    {
     "data": {
      "text/html": [
       "<table>\n",
       "<thead><tr><th scope=col>buying_price</th><th scope=col>maintainence_cost</th><th scope=col>number_of_doors</th><th scope=col>number_of_seats</th><th scope=col>luggage_boot_size</th><th scope=col>safety_rating</th></tr></thead>\n",
       "<tbody>\n",
       "\t<tr><td>4</td><td>1</td><td>2</td><td>2</td><td>2</td><td>2</td></tr>\n",
       "\t<tr><td>2</td><td>1</td><td>3</td><td>4</td><td>3</td><td>2</td></tr>\n",
       "\t<tr><td>4</td><td>4</td><td>2</td><td>5</td><td>1</td><td>2</td></tr>\n",
       "\t<tr><td>4</td><td>3</td><td>3</td><td>2</td><td>2</td><td>2</td></tr>\n",
       "\t<tr><td>4</td><td>2</td><td>2</td><td>4</td><td>3</td><td>2</td></tr>\n",
       "\t<tr><td>4</td><td>3</td><td>5</td><td>2</td><td>3</td><td>3</td></tr>\n",
       "</tbody>\n",
       "</table>\n"
      ],
      "text/latex": [
       "\\begin{tabular}{r|llllll}\n",
       " buying\\_price & maintainence\\_cost & number\\_of\\_doors & number\\_of\\_seats & luggage\\_boot\\_size & safety\\_rating\\\\\n",
       "\\hline\n",
       "\t 4 & 1 & 2 & 2 & 2 & 2\\\\\n",
       "\t 2 & 1 & 3 & 4 & 3 & 2\\\\\n",
       "\t 4 & 4 & 2 & 5 & 1 & 2\\\\\n",
       "\t 4 & 3 & 3 & 2 & 2 & 2\\\\\n",
       "\t 4 & 2 & 2 & 4 & 3 & 2\\\\\n",
       "\t 4 & 3 & 5 & 2 & 3 & 3\\\\\n",
       "\\end{tabular}\n"
      ],
      "text/markdown": [
       "\n",
       "| buying_price | maintainence_cost | number_of_doors | number_of_seats | luggage_boot_size | safety_rating |\n",
       "|---|---|---|---|---|---|\n",
       "| 4 | 1 | 2 | 2 | 2 | 2 |\n",
       "| 2 | 1 | 3 | 4 | 3 | 2 |\n",
       "| 4 | 4 | 2 | 5 | 1 | 2 |\n",
       "| 4 | 3 | 3 | 2 | 2 | 2 |\n",
       "| 4 | 2 | 2 | 4 | 3 | 2 |\n",
       "| 4 | 3 | 5 | 2 | 3 | 3 |\n",
       "\n"
      ],
      "text/plain": [
       "  buying_price maintainence_cost number_of_doors number_of_seats\n",
       "1 4            1                 2               2              \n",
       "2 2            1                 3               4              \n",
       "3 4            4                 2               5              \n",
       "4 4            3                 3               2              \n",
       "5 4            2                 2               4              \n",
       "6 4            3                 5               2              \n",
       "  luggage_boot_size safety_rating\n",
       "1 2                 2            \n",
       "2 3                 2            \n",
       "3 1                 2            \n",
       "4 2                 2            \n",
       "5 3                 2            \n",
       "6 3                 3            "
      ]
     },
     "metadata": {},
     "output_type": "display_data"
    }
   ],
   "source": [
    "###################################################################################################\n",
    "train_inSample <- read.csv(\"C:/Users/Matt/Desktop/Competitions/CarPopularity/train.csv\")\n",
    "test_outSample <- read.csv(\"C:/Users/Matt/Desktop/Competitions/CarPopularity/test.csv\")\n",
    "\n",
    "cols <- colnames(train_inSample)[-7]\n",
    "colnames(test_outSample) <- colnames(train_inSample[cols])\n",
    "\n",
    "head(train_inSample)\n",
    "head(test_outSample)\n",
    "###################################################################################################"
   ]
  },
  {
   "cell_type": "code",
   "execution_count": 10,
   "metadata": {},
   "outputs": [
    {
     "data": {
      "text/html": [
       "<table>\n",
       "<thead><tr><th></th><th scope=col>buying_price</th><th scope=col>maintainence_cost</th><th scope=col>number_of_doors</th><th scope=col>number_of_seats</th><th scope=col>luggage_boot_size</th><th scope=col>safety_rating</th><th scope=col>popularity</th></tr></thead>\n",
       "<tbody>\n",
       "\t<tr><th scope=row>415</th><td>4</td><td>3</td><td>2</td><td>4</td><td>1</td><td>2</td><td>1</td></tr>\n",
       "\t<tr><th scope=row>463</th><td>1</td><td>3</td><td>5</td><td>5</td><td>1</td><td>3</td><td>2</td></tr>\n",
       "\t<tr><th scope=row>179</th><td>1</td><td>2</td><td>3</td><td>2</td><td>2</td><td>3</td><td>1</td></tr>\n",
       "\t<tr><th scope=row>526</th><td>2</td><td>3</td><td>2</td><td>5</td><td>1</td><td>2</td><td>1</td></tr>\n",
       "\t<tr><th scope=row>195</th><td>1</td><td>2</td><td>2</td><td>5</td><td>1</td><td>3</td><td>1</td></tr>\n",
       "\t<tr><th scope=row>938</th><td>1</td><td>1</td><td>3</td><td>4</td><td>1</td><td>2</td><td>2</td></tr>\n",
       "</tbody>\n",
       "</table>\n"
      ],
      "text/latex": [
       "\\begin{tabular}{r|lllllll}\n",
       "  & buying\\_price & maintainence\\_cost & number\\_of\\_doors & number\\_of\\_seats & luggage\\_boot\\_size & safety\\_rating & popularity\\\\\n",
       "\\hline\n",
       "\t415 & 4 & 3 & 2 & 4 & 1 & 2 & 1\\\\\n",
       "\t463 & 1 & 3 & 5 & 5 & 1 & 3 & 2\\\\\n",
       "\t179 & 1 & 2 & 3 & 2 & 2 & 3 & 1\\\\\n",
       "\t526 & 2 & 3 & 2 & 5 & 1 & 2 & 1\\\\\n",
       "\t195 & 1 & 2 & 2 & 5 & 1 & 3 & 1\\\\\n",
       "\t938 & 1 & 1 & 3 & 4 & 1 & 2 & 2\\\\\n",
       "\\end{tabular}\n"
      ],
      "text/markdown": [
       "\n",
       "| <!--/--> | buying_price | maintainence_cost | number_of_doors | number_of_seats | luggage_boot_size | safety_rating | popularity |\n",
       "|---|---|---|---|---|---|---|---|\n",
       "| 415 | 4 | 3 | 2 | 4 | 1 | 2 | 1 |\n",
       "| 463 | 1 | 3 | 5 | 5 | 1 | 3 | 2 |\n",
       "| 179 | 1 | 2 | 3 | 2 | 2 | 3 | 1 |\n",
       "| 526 | 2 | 3 | 2 | 5 | 1 | 2 | 1 |\n",
       "| 195 | 1 | 2 | 2 | 5 | 1 | 3 | 1 |\n",
       "| 938 | 1 | 1 | 3 | 4 | 1 | 2 | 2 |\n",
       "\n"
      ],
      "text/plain": [
       "    buying_price maintainence_cost number_of_doors number_of_seats\n",
       "415 4            3                 2               4              \n",
       "463 1            3                 5               5              \n",
       "179 1            2                 3               2              \n",
       "526 2            3                 2               5              \n",
       "195 1            2                 2               5              \n",
       "938 1            1                 3               4              \n",
       "    luggage_boot_size safety_rating popularity\n",
       "415 1                 2             1         \n",
       "463 1                 3             2         \n",
       "179 2                 3             1         \n",
       "526 1                 2             1         \n",
       "195 1                 3             1         \n",
       "938 1                 2             2         "
      ]
     },
     "metadata": {},
     "output_type": "display_data"
    },
    {
     "data": {
      "text/html": [
       "<table>\n",
       "<thead><tr><th></th><th scope=col>buying_price</th><th scope=col>maintainence_cost</th><th scope=col>number_of_doors</th><th scope=col>number_of_seats</th><th scope=col>luggage_boot_size</th><th scope=col>safety_rating</th><th scope=col>popularity</th></tr></thead>\n",
       "<tbody>\n",
       "\t<tr><th scope=row>3</th><td>1</td><td>4</td><td>2</td><td>5</td><td>1</td><td>3</td><td>1</td></tr>\n",
       "\t<tr><th scope=row>7</th><td>1</td><td>3</td><td>5</td><td>2</td><td>2</td><td>2</td><td>1</td></tr>\n",
       "\t<tr><th scope=row>14</th><td>1</td><td>2</td><td>2</td><td>5</td><td>2</td><td>3</td><td>3</td></tr>\n",
       "\t<tr><th scope=row>15</th><td>2</td><td>4</td><td>2</td><td>2</td><td>3</td><td>1</td><td>1</td></tr>\n",
       "\t<tr><th scope=row>22</th><td>4</td><td>4</td><td>4</td><td>2</td><td>1</td><td>1</td><td>1</td></tr>\n",
       "\t<tr><th scope=row>23</th><td>3</td><td>1</td><td>2</td><td>5</td><td>1</td><td>1</td><td>1</td></tr>\n",
       "</tbody>\n",
       "</table>\n"
      ],
      "text/latex": [
       "\\begin{tabular}{r|lllllll}\n",
       "  & buying\\_price & maintainence\\_cost & number\\_of\\_doors & number\\_of\\_seats & luggage\\_boot\\_size & safety\\_rating & popularity\\\\\n",
       "\\hline\n",
       "\t3 & 1 & 4 & 2 & 5 & 1 & 3 & 1\\\\\n",
       "\t7 & 1 & 3 & 5 & 2 & 2 & 2 & 1\\\\\n",
       "\t14 & 1 & 2 & 2 & 5 & 2 & 3 & 3\\\\\n",
       "\t15 & 2 & 4 & 2 & 2 & 3 & 1 & 1\\\\\n",
       "\t22 & 4 & 4 & 4 & 2 & 1 & 1 & 1\\\\\n",
       "\t23 & 3 & 1 & 2 & 5 & 1 & 1 & 1\\\\\n",
       "\\end{tabular}\n"
      ],
      "text/markdown": [
       "\n",
       "| <!--/--> | buying_price | maintainence_cost | number_of_doors | number_of_seats | luggage_boot_size | safety_rating | popularity |\n",
       "|---|---|---|---|---|---|---|---|\n",
       "| 3 | 1 | 4 | 2 | 5 | 1 | 3 | 1 |\n",
       "| 7 | 1 | 3 | 5 | 2 | 2 | 2 | 1 |\n",
       "| 14 | 1 | 2 | 2 | 5 | 2 | 3 | 3 |\n",
       "| 15 | 2 | 4 | 2 | 2 | 3 | 1 | 1 |\n",
       "| 22 | 4 | 4 | 4 | 2 | 1 | 1 | 1 |\n",
       "| 23 | 3 | 1 | 2 | 5 | 1 | 1 | 1 |\n",
       "\n"
      ],
      "text/plain": [
       "   buying_price maintainence_cost number_of_doors number_of_seats\n",
       "3  1            4                 2               5              \n",
       "7  1            3                 5               2              \n",
       "14 1            2                 2               5              \n",
       "15 2            4                 2               2              \n",
       "22 4            4                 4               2              \n",
       "23 3            1                 2               5              \n",
       "   luggage_boot_size safety_rating popularity\n",
       "3  1                 3             1         \n",
       "7  2                 2             1         \n",
       "14 2                 3             3         \n",
       "15 3                 1             1         \n",
       "22 1                 1             1         \n",
       "23 1                 1             1         "
      ]
     },
     "metadata": {},
     "output_type": "display_data"
    }
   ],
   "source": [
    "###################################################################################################\n",
    "################### Split the training data into 75% train and 25% validation #########################\n",
    "set.seed(123)\n",
    "train_validation_split = 0.75\n",
    "smp_size <- floor(train_validation_split * nrow(train_inSample))\n",
    "train_ind <- sample(seq_len(nrow(train_inSample)), size = smp_size)\n",
    "\n",
    "train <- train_inSample[train_ind, ]\n",
    "val <- train_inSample[-train_ind, ]\n",
    "\n",
    "head(train)\n",
    "head(val)\n",
    "###################################################################################################"
   ]
  },
  {
   "cell_type": "code",
   "execution_count": 11,
   "metadata": {},
   "outputs": [
    {
     "data": {
      "text/html": [
       "<table>\n",
       "<thead><tr><th></th><th scope=col>buying_price</th><th scope=col>maintainence_cost</th><th scope=col>number_of_doors</th><th scope=col>number_of_seats</th><th scope=col>luggage_boot_size</th><th scope=col>safety_rating</th></tr></thead>\n",
       "<tbody>\n",
       "\t<tr><th scope=row>415</th><td>4</td><td>3</td><td>2</td><td>4</td><td>1</td><td>2</td></tr>\n",
       "\t<tr><th scope=row>463</th><td>1</td><td>3</td><td>5</td><td>5</td><td>1</td><td>3</td></tr>\n",
       "</tbody>\n",
       "</table>\n"
      ],
      "text/latex": [
       "\\begin{tabular}{r|llllll}\n",
       "  & buying\\_price & maintainence\\_cost & number\\_of\\_doors & number\\_of\\_seats & luggage\\_boot\\_size & safety\\_rating\\\\\n",
       "\\hline\n",
       "\t415 & 4 & 3 & 2 & 4 & 1 & 2\\\\\n",
       "\t463 & 1 & 3 & 5 & 5 & 1 & 3\\\\\n",
       "\\end{tabular}\n"
      ],
      "text/markdown": [
       "\n",
       "| <!--/--> | buying_price | maintainence_cost | number_of_doors | number_of_seats | luggage_boot_size | safety_rating |\n",
       "|---|---|---|---|---|---|---|\n",
       "| 415 | 4 | 3 | 2 | 4 | 1 | 2 |\n",
       "| 463 | 1 | 3 | 5 | 5 | 1 | 3 |\n",
       "\n"
      ],
      "text/plain": [
       "    buying_price maintainence_cost number_of_doors number_of_seats\n",
       "415 4            3                 2               4              \n",
       "463 1            3                 5               5              \n",
       "    luggage_boot_size safety_rating\n",
       "415 1                 2            \n",
       "463 1                 3            "
      ]
     },
     "metadata": {},
     "output_type": "display_data"
    },
    {
     "data": {
      "text/html": [
       "<table>\n",
       "<thead><tr><th></th><th scope=col>buying_price</th><th scope=col>maintainence_cost</th><th scope=col>number_of_doors</th><th scope=col>number_of_seats</th><th scope=col>luggage_boot_size</th><th scope=col>safety_rating</th></tr></thead>\n",
       "<tbody>\n",
       "\t<tr><th scope=row>3</th><td>1</td><td>4</td><td>2</td><td>5</td><td>1</td><td>3</td></tr>\n",
       "\t<tr><th scope=row>7</th><td>1</td><td>3</td><td>5</td><td>2</td><td>2</td><td>2</td></tr>\n",
       "</tbody>\n",
       "</table>\n"
      ],
      "text/latex": [
       "\\begin{tabular}{r|llllll}\n",
       "  & buying\\_price & maintainence\\_cost & number\\_of\\_doors & number\\_of\\_seats & luggage\\_boot\\_size & safety\\_rating\\\\\n",
       "\\hline\n",
       "\t3 & 1 & 4 & 2 & 5 & 1 & 3\\\\\n",
       "\t7 & 1 & 3 & 5 & 2 & 2 & 2\\\\\n",
       "\\end{tabular}\n"
      ],
      "text/markdown": [
       "\n",
       "| <!--/--> | buying_price | maintainence_cost | number_of_doors | number_of_seats | luggage_boot_size | safety_rating |\n",
       "|---|---|---|---|---|---|---|\n",
       "| 3 | 1 | 4 | 2 | 5 | 1 | 3 |\n",
       "| 7 | 1 | 3 | 5 | 2 | 2 | 2 |\n",
       "\n"
      ],
      "text/plain": [
       "  buying_price maintainence_cost number_of_doors number_of_seats\n",
       "3 1            4                 2               5              \n",
       "7 1            3                 5               2              \n",
       "  luggage_boot_size safety_rating\n",
       "3 1                 3            \n",
       "7 2                 2            "
      ]
     },
     "metadata": {},
     "output_type": "display_data"
    },
    {
     "data": {
      "text/html": [
       "<ol class=list-inline>\n",
       "\t<li>0</li>\n",
       "\t<li>1</li>\n",
       "</ol>\n"
      ],
      "text/latex": [
       "\\begin{enumerate*}\n",
       "\\item 0\n",
       "\\item 1\n",
       "\\end{enumerate*}\n"
      ],
      "text/markdown": [
       "1. 0\n",
       "2. 1\n",
       "\n",
       "\n"
      ],
      "text/plain": [
       "[1] 0 1"
      ]
     },
     "metadata": {},
     "output_type": "display_data"
    },
    {
     "data": {
      "text/html": [
       "<ol class=list-inline>\n",
       "\t<li>0</li>\n",
       "\t<li>0</li>\n",
       "</ol>\n"
      ],
      "text/latex": [
       "\\begin{enumerate*}\n",
       "\\item 0\n",
       "\\item 0\n",
       "\\end{enumerate*}\n"
      ],
      "text/markdown": [
       "1. 0\n",
       "2. 0\n",
       "\n",
       "\n"
      ],
      "text/plain": [
       "[1] 0 0"
      ]
     },
     "metadata": {},
     "output_type": "display_data"
    }
   ],
   "source": [
    "###################################################################################################\n",
    "############ Split between x preditors and y prediction ############\n",
    "x_train <- train[, 1:6]\n",
    "x_val <- val[, 1:6] \n",
    "\n",
    "y_train <- train[, 7] - 1 # We -1 here since XGBoost can only take on labels in [0, num_class)\n",
    "y_val <- val[, 7] - 1\n",
    "\n",
    "head(x_train, 2)\n",
    "head(x_val, 2)\n",
    "head(y_train, 2)\n",
    "head(y_val, 2)\n",
    "###################################################################################################"
   ]
  },
  {
   "cell_type": "code",
   "execution_count": 15,
   "metadata": {},
   "outputs": [
    {
     "name": "stdout",
     "output_type": "stream",
     "text": [
      "xgb.DMatrix  dim: 1221 x 6  info: label  colnames: yes\n",
      "xgb.DMatrix  dim: 407 x 6  info: label  colnames: yes\n"
     ]
    }
   ],
   "source": [
    "###################################################################################################\n",
    "# XGBoost xgb.DMatrix\n",
    "\n",
    "dtrain <- xgb.DMatrix(data = as.matrix(x_train), label = y_train, missing = \"NaN\")\n",
    "dval <- xgb.DMatrix(data = as.matrix(x_val), label = y_val, missing = \"NaN\")\n",
    "\n",
    "print(dtrain)\n",
    "print(dval)\n",
    "###################################################################################################"
   ]
  },
  {
   "cell_type": "code",
   "execution_count": 19,
   "metadata": {},
   "outputs": [
    {
     "name": "stdout",
     "output_type": "stream",
     "text": [
      "[1]\ttrain-mlogloss:1.231559+0.001356\ttest-mlogloss:1.233828+0.000110 \n",
      "Multiple eval metrics are present. Will use test_mlogloss for early stopping.\n",
      "Will train until test_mlogloss hasn't improved in 10 rounds.\n",
      "\n",
      "Stopping. Best iteration:\n",
      "[184]\ttrain-mlogloss:0.019723+0.000368\ttest-mlogloss:0.080088+0.009298\n",
      "\n",
      "[1]\ttrain-mlogloss:1.217302+0.001345\ttest-mlogloss:1.225348+0.000931 \n",
      "Multiple eval metrics are present. Will use test_mlogloss for early stopping.\n",
      "Will train until test_mlogloss hasn't improved in 10 rounds.\n",
      "\n",
      "Stopping. Best iteration:\n",
      "[112]\ttrain-mlogloss:0.019388+0.001568\ttest-mlogloss:0.104205+0.012344\n",
      "\n",
      "[1]\ttrain-mlogloss:1.216668+0.001290\ttest-mlogloss:1.221100+0.000891 \n",
      "Multiple eval metrics are present. Will use test_mlogloss for early stopping.\n",
      "Will train until test_mlogloss hasn't improved in 10 rounds.\n",
      "\n",
      "Stopping. Best iteration:\n",
      "[253]\ttrain-mlogloss:0.012736+0.000786\ttest-mlogloss:0.067186+0.008384\n",
      "\n",
      "[1]\ttrain-mlogloss:1.307780+0.002342\ttest-mlogloss:1.311593+0.000746 \n",
      "Multiple eval metrics are present. Will use test_mlogloss for early stopping.\n",
      "Will train until test_mlogloss hasn't improved in 10 rounds.\n",
      "\n",
      "Stopping. Best iteration:\n",
      "[344]\ttrain-mlogloss:0.021679+0.002403\ttest-mlogloss:0.100628+0.033729\n",
      "\n",
      "[1]\ttrain-mlogloss:1.301313+0.000858\ttest-mlogloss:1.304693+0.000411 \n",
      "Multiple eval metrics are present. Will use test_mlogloss for early stopping.\n",
      "Will train until test_mlogloss hasn't improved in 10 rounds.\n",
      "\n",
      "Stopping. Best iteration:\n",
      "[287]\ttrain-mlogloss:0.016760+0.000441\ttest-mlogloss:0.097298+0.014440\n",
      "\n",
      "[1]\ttrain-mlogloss:1.299636+0.000915\ttest-mlogloss:1.302688+0.000399 \n",
      "Multiple eval metrics are present. Will use test_mlogloss for early stopping.\n",
      "Will train until test_mlogloss hasn't improved in 10 rounds.\n",
      "\n",
      "Stopping. Best iteration:\n",
      "[251]\ttrain-mlogloss:0.018592+0.000857\ttest-mlogloss:0.085192+0.001879\n",
      "\n",
      "[1]\ttrain-mlogloss:0.956533+0.001960\ttest-mlogloss:0.966423+0.008998 \n",
      "Multiple eval metrics are present. Will use test_mlogloss for early stopping.\n",
      "Will train until test_mlogloss hasn't improved in 10 rounds.\n",
      "\n",
      "Stopping. Best iteration:\n",
      "[55]\ttrain-mlogloss:0.020598+0.000071\ttest-mlogloss:0.072632+0.005221\n",
      "\n",
      "[1]\ttrain-mlogloss:0.915874+0.003145\ttest-mlogloss:0.931581+0.006681 \n",
      "Multiple eval metrics are present. Will use test_mlogloss for early stopping.\n",
      "Will train until test_mlogloss hasn't improved in 10 rounds.\n",
      "\n",
      "Stopping. Best iteration:\n",
      "[82]\ttrain-mlogloss:0.012770+0.001448\ttest-mlogloss:0.082625+0.012943\n",
      "\n",
      "[1]\ttrain-mlogloss:0.910284+0.006792\ttest-mlogloss:0.929283+0.006012 \n",
      "Multiple eval metrics are present. Will use test_mlogloss for early stopping.\n",
      "Will train until test_mlogloss hasn't improved in 10 rounds.\n",
      "\n",
      "Stopping. Best iteration:\n",
      "[31]\ttrain-mlogloss:0.020365+0.001132\ttest-mlogloss:0.090162+0.023531\n",
      "\n"
     ]
    },
    {
     "data": {
      "text/plain": [
       "   user  system elapsed \n",
       "  52.11   31.08   43.05 "
      ]
     },
     "metadata": {},
     "output_type": "display_data"
    },
    {
     "name": "stdout",
     "output_type": "stream",
     "text": [
      "[1] \"The best parameters are:\"\n"
     ]
    },
    {
     "data": {
      "text/html": [
       "<table>\n",
       "<thead><tr><th scope=col>iter</th><th scope=col>train_mlogloss_mean</th><th scope=col>train_mlogloss_std</th><th scope=col>test_mlogloss_mean</th><th scope=col>test_mlogloss_std</th><th scope=col>MaxDepth</th><th scope=col>EtaValue</th></tr></thead>\n",
       "<tbody>\n",
       "\t<tr><td>194      </td><td>0.0189685</td><td>0.0004235</td><td>0.080148 </td><td>0.00954  </td><td>5        </td><td>0.1      </td></tr>\n",
       "</tbody>\n",
       "</table>\n"
      ],
      "text/latex": [
       "\\begin{tabular}{r|lllllll}\n",
       " iter & train\\_mlogloss\\_mean & train\\_mlogloss\\_std & test\\_mlogloss\\_mean & test\\_mlogloss\\_std & MaxDepth & EtaValue\\\\\n",
       "\\hline\n",
       "\t 194       & 0.0189685 & 0.0004235 & 0.080148  & 0.00954   & 5         & 0.1      \\\\\n",
       "\\end{tabular}\n"
      ],
      "text/markdown": [
       "\n",
       "| iter | train_mlogloss_mean | train_mlogloss_std | test_mlogloss_mean | test_mlogloss_std | MaxDepth | EtaValue |\n",
       "|---|---|---|---|---|---|---|\n",
       "| 194       | 0.0189685 | 0.0004235 | 0.080148  | 0.00954   | 5         | 0.1       |\n",
       "\n"
      ],
      "text/plain": [
       "  iter train_mlogloss_mean train_mlogloss_std test_mlogloss_mean\n",
       "1 194  0.0189685           0.0004235          0.080148          \n",
       "  test_mlogloss_std MaxDepth EtaValue\n",
       "1 0.00954           5        0.1     "
      ]
     },
     "metadata": {},
     "output_type": "display_data"
    },
    {
     "name": "stdout",
     "output_type": "stream",
     "text": [
      "[1] \"The other parameters are:\"\n"
     ]
    },
    {
     "data": {
      "text/html": [
       "<table>\n",
       "<thead><tr><th scope=col>iter</th><th scope=col>train_mlogloss_mean</th><th scope=col>train_mlogloss_std</th><th scope=col>test_mlogloss_mean</th><th scope=col>test_mlogloss_std</th><th scope=col>MaxDepth</th><th scope=col>EtaValue</th></tr></thead>\n",
       "<tbody>\n",
       "\t<tr><td>194      </td><td>0.0189685</td><td>0.0004235</td><td>0.080148 </td><td>0.00954  </td><td>5        </td><td>0.1      </td></tr>\n",
       "\t<tr><td>122     </td><td>0.018407</td><td>0.001464</td><td>0.104895</td><td>0.01255 </td><td>8       </td><td>0.1     </td></tr>\n",
       "\t<tr><td>263      </td><td>0.0125325</td><td>0.0007685</td><td>0.0672465</td><td>0.0082325</td><td>14       </td><td>0.1      </td></tr>\n",
       "\t<tr><td>354      </td><td>0.021161 </td><td>0.002279 </td><td>0.1007005</td><td>0.0346275</td><td>5        </td><td>0.05     </td></tr>\n",
       "\t<tr><td>297      </td><td>0.0164475</td><td>0.0003705</td><td>0.097382 </td><td>0.014646 </td><td>8        </td><td>0.05     </td></tr>\n",
       "\t<tr><td>261      </td><td>0.0181415</td><td>0.0008235</td><td>0.085277 </td><td>0.001917 </td><td>14       </td><td>0.05     </td></tr>\n",
       "</tbody>\n",
       "</table>\n"
      ],
      "text/latex": [
       "\\begin{tabular}{r|lllllll}\n",
       " iter & train\\_mlogloss\\_mean & train\\_mlogloss\\_std & test\\_mlogloss\\_mean & test\\_mlogloss\\_std & MaxDepth & EtaValue\\\\\n",
       "\\hline\n",
       "\t 194       & 0.0189685 & 0.0004235 & 0.080148  & 0.00954   & 5         & 0.1      \\\\\n",
       "\t 122      & 0.018407 & 0.001464 & 0.104895 & 0.01255  & 8        & 0.1     \\\\\n",
       "\t 263       & 0.0125325 & 0.0007685 & 0.0672465 & 0.0082325 & 14        & 0.1      \\\\\n",
       "\t 354       & 0.021161  & 0.002279  & 0.1007005 & 0.0346275 & 5         & 0.05     \\\\\n",
       "\t 297       & 0.0164475 & 0.0003705 & 0.097382  & 0.014646  & 8         & 0.05     \\\\\n",
       "\t 261       & 0.0181415 & 0.0008235 & 0.085277  & 0.001917  & 14        & 0.05     \\\\\n",
       "\\end{tabular}\n"
      ],
      "text/markdown": [
       "\n",
       "| iter | train_mlogloss_mean | train_mlogloss_std | test_mlogloss_mean | test_mlogloss_std | MaxDepth | EtaValue |\n",
       "|---|---|---|---|---|---|---|\n",
       "| 194       | 0.0189685 | 0.0004235 | 0.080148  | 0.00954   | 5         | 0.1       |\n",
       "| 122      | 0.018407 | 0.001464 | 0.104895 | 0.01255  | 8        | 0.1      |\n",
       "| 263       | 0.0125325 | 0.0007685 | 0.0672465 | 0.0082325 | 14        | 0.1       |\n",
       "| 354       | 0.021161  | 0.002279  | 0.1007005 | 0.0346275 | 5         | 0.05      |\n",
       "| 297       | 0.0164475 | 0.0003705 | 0.097382  | 0.014646  | 8         | 0.05      |\n",
       "| 261       | 0.0181415 | 0.0008235 | 0.085277  | 0.001917  | 14        | 0.05      |\n",
       "\n"
      ],
      "text/plain": [
       "  iter train_mlogloss_mean train_mlogloss_std test_mlogloss_mean\n",
       "1 194  0.0189685           0.0004235          0.080148          \n",
       "2 122  0.018407            0.001464           0.104895          \n",
       "3 263  0.0125325           0.0007685          0.0672465         \n",
       "4 354  0.021161            0.002279           0.1007005         \n",
       "5 297  0.0164475           0.0003705          0.097382          \n",
       "6 261  0.0181415           0.0008235          0.085277          \n",
       "  test_mlogloss_std MaxDepth EtaValue\n",
       "1 0.00954           5        0.1     \n",
       "2 0.01255           8        0.1     \n",
       "3 0.0082325         14       0.1     \n",
       "4 0.0346275         5        0.05    \n",
       "5 0.014646          8        0.05    \n",
       "6 0.001917          14       0.05    "
      ]
     },
     "metadata": {},
     "output_type": "display_data"
    }
   ],
   "source": [
    "###################################################################################################\n",
    "# Grid Search Parameters (very simplistic model for this test - I omit many of the XGBoost parameters due to time constraints):\n",
    "# 1)\n",
    "ParameterGridSearch <- expand.grid(max_depth = c(5, 8, 14), #Range (0, inf], default = 6\n",
    "                                eta = c(0.1, 0.05, 0.3) #Range (0,1], default = 0.3\n",
    "                                )\n",
    "\n",
    "\n",
    "ntrees = 2\n",
    "nrounds = 1500\n",
    "early_stopping_rounds = 10\n",
    "numberOfClasses = as.numeric(length(unique(y_train)))\n",
    "\n",
    "# Search over a grid space to locate the most optimal parameters.\n",
    "# 2)\n",
    "system.time(\n",
    "  Hyperparameters <- apply(ParameterGridSearch, 1, function(parameterList){\n",
    "    MaxDepth = parameterList[[\"max_depth\"]]\n",
    "    EtaValue = parameterList[[\"eta\"]]\n",
    "    \n",
    "    xgb_params <- list(\"objective\" = \"multi:softprob\", # multi probabilistic classification\n",
    "                       \"eval_metric\" = \"mlogloss\",\n",
    "                       \"num_class\" = numberOfClasses,\n",
    "                       \"max_depth\" = MaxDepth,\n",
    "                       \"eta\" = EtaValue)\n",
    "    \n",
    "    xgboostModelCV <- xgb.cv(params = xgb_params,\n",
    "                             data =  dtrain,\n",
    "                             nfold = ntrees,\n",
    "                             nrounds = nrounds,\n",
    "                             early_stopping_rounds = early_stopping_rounds,\n",
    "                             seed = 1234,\n",
    "                             prediction = TRUE,\n",
    "                             print_every_n = 500) # To save on output space in the ipynb file\n",
    "    \n",
    "    CrossValidationResults <<- as.data.frame(xgboostModelCV$evaluation_log)\n",
    "    BestIteration = tail(CrossValidationResults, 1)\n",
    "    EvaluationResults = return(c(BestIteration, MaxDepth, EtaValue))\n",
    "    }\n",
    "  )\n",
    ")\n",
    "\n",
    "CVResults <- as.data.frame(do.call(rbind, Hyperparameters))\n",
    "\n",
    "# Find the best iteration by test_mlogloss and train_mlogloss\n",
    "names(CVResults)[names(CVResults) == 'V6'] <- 'MaxDepth'\n",
    "names(CVResults)[names(CVResults) == 'V7'] <- 'EtaValue'\n",
    "print(\"The best parameters are:\")\n",
    "CVResults[with(CVResults, order(\"test_mlogloss_mean\", \"train_mlogloss_mean\")), ]\n",
    "\n",
    "print(\"The other parameters are:\")\n",
    "head(CVResults)\n",
    "###################################################################################################"
   ]
  },
  {
   "cell_type": "code",
   "execution_count": 20,
   "metadata": {},
   "outputs": [
    {
     "data": {
      "image/png": "[encoded data removed]",
      "text/plain": [
       "plot without title"
      ]
     },
     "metadata": {},
     "output_type": "display_data"
    }
   ],
   "source": [
    "###################################################################################################\n",
    "# Train the model using the optimal parameters from cross validation and calculate the in-sample confusionMatrix\n",
    "\n",
    "Optimalparams <- list(\"eta\" = head(CVResults$EtaValue, 1)[[1]], \n",
    "               \"max_depth\" = head(CVResults$MaxDepth, 1)[[1]], \n",
    "               \"objective\" = \"multi:softprob\",\n",
    "               \"eval_metric\" = \"mlogloss\",\n",
    "               \"num_class\" = numberOfClasses)\n",
    "\n",
    "Optimalnround <- head(CVResults$iter, 1)[[1]]\n",
    "\n",
    "# Train the final XGBoost model\n",
    "xgb.model <- xgb.train(Optimalparams, dtrain, Optimalnround)\n",
    "\n",
    "xgb.imp <- xgb.importance(model = xgb.model)\n",
    "xgb.plot.importance(xgb.imp)\n",
    "###################################################################################################"
   ]
  },
  {
   "cell_type": "code",
   "execution_count": 21,
   "metadata": {},
   "outputs": [
    {
     "data": {
      "text/plain": [
       "Confusion Matrix and Statistics\n",
       "\n",
       "          Reference\n",
       "Prediction   1   2   3   4\n",
       "         1 290   0   0   0\n",
       "         2   6  84   0   0\n",
       "         3   0   1  13   0\n",
       "         4   0   2   2   9\n",
       "\n",
       "Overall Statistics\n",
       "                                          \n",
       "               Accuracy : 0.973           \n",
       "                 95% CI : (0.9522, 0.9864)\n",
       "    No Information Rate : 0.7273          \n",
       "    P-Value [Acc > NIR] : < 2.2e-16       \n",
       "                                          \n",
       "                  Kappa : 0.9375          \n",
       "                                          \n",
       " Mcnemar's Test P-Value : NA              \n",
       "\n",
       "Statistics by Class:\n",
       "\n",
       "                     Class: 1 Class: 2 Class: 3 Class: 4\n",
       "Sensitivity            0.9797   0.9655  0.86667  1.00000\n",
       "Specificity            1.0000   0.9812  0.99745  0.98995\n",
       "Pos Pred Value         1.0000   0.9333  0.92857  0.69231\n",
       "Neg Pred Value         0.9487   0.9905  0.99491  1.00000\n",
       "Precision              1.0000   0.9333  0.92857  0.69231\n",
       "Recall                 0.9797   0.9655  0.86667  1.00000\n",
       "F1                     0.9898   0.9492  0.89655  0.81818\n",
       "Prevalence             0.7273   0.2138  0.03686  0.02211\n",
       "Detection Rate         0.7125   0.2064  0.03194  0.02211\n",
       "Detection Prevalence   0.7125   0.2211  0.03440  0.03194\n",
       "Balanced Accuracy      0.9899   0.9734  0.93206  0.99497"
      ]
     },
     "metadata": {},
     "output_type": "display_data"
    }
   ],
   "source": [
    "###################################################################################################\n",
    "################## In-sample validation data predictions ##################\n",
    "xgb.pred.val <- predict(xgb.model, newdata = dval) # Note we train the optimal parameters on this data\n",
    "\n",
    "valConfMat <- matrix(xgb.pred.val, nrow = numberOfClasses,\n",
    "                          ncol = length(xgb.pred.val) / numberOfClasses) %>%\n",
    "  t() %>%\n",
    "  data.frame() %>%\n",
    "  mutate(label = y_val + 1,   # NOTE: We add the one back that we took away from earlier to the Y variable\n",
    "         val_predictions = max.col(., \"last\"))\n",
    "\n",
    "################## In-sample validation data confusion matrix ##################\n",
    "confusionMatrix(factor(valConfMat$val_predictions),\n",
    "                factor(valConfMat$label),\n",
    "                mode = \"everything\")\n",
    "\n",
    "# Approx 97% accuracy\n",
    "###################################################################################################"
   ]
  },
  {
   "cell_type": "code",
   "execution_count": 22,
   "metadata": {},
   "outputs": [],
   "source": [
    "###################################################################################################\n",
    "# Make final predictions on the held out test set\n",
    "dtest <- xgb.DMatrix(data = as.matrix(test_outSample), missing = \"NaN\")\n",
    "xgb.pred.test <- predict(xgb.model, newdata = dtest)\n",
    "\n",
    "test_predictions <- matrix(xgb.pred.test, nrow = numberOfClasses,\n",
    "                     ncol = length(xgb.pred.test) / numberOfClasses) %>%\n",
    "  t() %>%\n",
    "  data.frame() %>%\n",
    "  mutate(predictions = max.col(., \"last\")) %>%\n",
    "  pull(predictions)\n",
    "###################################################################################################"
   ]
  },
  {
   "cell_type": "code",
   "execution_count": 23,
   "metadata": {},
   "outputs": [],
   "source": [
    "###################################################################################################\n",
    "setwd(\"C:/Users/Matt/Desktop/Competitions/CarPopularity/\")\n",
    "write.csv(test_predictions, \"prediction.csv\")\n",
    "###################################################################################################"
   ]
  }
 ],
 "metadata": {
  "kernelspec": {
   "display_name": "R",
   "language": "R",
   "name": "ir"
  },
  "language_info": {
   "codemirror_mode": "r",
   "file_extension": ".r",
   "mimetype": "text/x-r-source",
   "name": "R",
   "pygments_lexer": "r",
   "version": "3.6.1"
  }
 },
 "nbformat": 4,
 "nbformat_minor": 2
}
