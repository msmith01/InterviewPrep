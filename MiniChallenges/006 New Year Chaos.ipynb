{
 "cells": [
  {
   "cell_type": "code",
   "execution_count": 1,
   "metadata": {},
   "outputs": [],
   "source": [
    "# Problem: https://www.hackerrank.com/challenges/new-year-chaos/problem\n",
    "\n",
    "minimumBribes <- function(initial_queue, final_queue) {\n",
    "  queue_change <- final_queue - initial_queue\n",
    "  if(any(queue_change > 2)) # greater than the max_jump \n",
    "    return(\"Too chaotic!\")\n",
    "  sum(queue_change[queue_change > 0])\n",
    "}"
   ]
  },
  {
   "cell_type": "code",
   "execution_count": 2,
   "metadata": {},
   "outputs": [
    {
     "data": {
      "text/html": [
       "3"
      ],
      "text/latex": [
       "3"
      ],
      "text/markdown": [
       "3"
      ],
      "text/plain": [
       "[1] 3"
      ]
     },
     "metadata": {},
     "output_type": "display_data"
    }
   ],
   "source": [
    "# Data / Answer 1:\n",
    "max_jump <- 2\n",
    "initial_queue <- c(1, 2, 3, 4, 5)\n",
    "final_queue <- c(2, 1, 5, 3, 4)\n",
    "minimumBribes(initial_queue, final_queue)"
   ]
  },
  {
   "cell_type": "code",
   "execution_count": 16,
   "metadata": {},
   "outputs": [
    {
     "data": {
      "text/html": [
       "'Too chaotic!'"
      ],
      "text/latex": [
       "'Too chaotic!'"
      ],
      "text/markdown": [
       "'Too chaotic!'"
      ],
      "text/plain": [
       "[1] \"Too chaotic!\""
      ]
     },
     "metadata": {},
     "output_type": "display_data"
    }
   ],
   "source": [
    "# Data / Answer 2:\n",
    "max_jump <- 2\n",
    "initial_queue <- c(1, 2, 3, 4, 5, 6, 7, 8, 9, 10, 11, 12, 13, 14, 15)\n",
    "final_queue <- c(5, 1, 2, 3, 6, 7, 8, 11, 10, 12, 15, 14, 13, 4, 9)\n",
    "minimumBribes(initial_queue, final_queue)"
   ]
  },
  {
   "cell_type": "code",
   "execution_count": 17,
   "metadata": {},
   "outputs": [
    {
     "data": {
      "text/html": [
       "3"
      ],
      "text/latex": [
       "3"
      ],
      "text/markdown": [
       "3"
      ],
      "text/plain": [
       "[1] 3"
      ]
     },
     "metadata": {},
     "output_type": "display_data"
    }
   ],
   "source": [
    "# Data / Answer 3:\n",
    "max_jump <- 4\n",
    "initial_queue <- c(1, 2, 3, 4, 5)\n",
    "final_queue <- c(2, 1, 5, 3, 4)\n",
    "minimumBribes(initial_queue, final_queue)"
   ]
  }
 ],
 "metadata": {
  "kernelspec": {
   "display_name": "R",
   "language": "R",
   "name": "ir"
  },
  "language_info": {
   "codemirror_mode": "r",
   "file_extension": ".r",
   "mimetype": "text/x-r-source",
   "name": "R",
   "pygments_lexer": "r",
   "version": "3.6.1"
  }
 },
 "nbformat": 4,
 "nbformat_minor": 2
}
