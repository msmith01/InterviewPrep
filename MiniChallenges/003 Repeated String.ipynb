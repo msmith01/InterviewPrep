{
 "cells": [
  {
   "cell_type": "code",
   "execution_count": 7,
   "metadata": {},
   "outputs": [],
   "source": [
    "# Problem: https://www.hackerrank.com/challenges/jumping-on-the-clouds/problem\n",
    "\n",
    "repeatedString <- function(n, s, l){\n",
    "  split_strings = strsplit(s, '')[[1]]\n",
    "  extended_strings <- rep(split_strings, length.out = n)\n",
    "  occurrences = sum(extended_strings == l)\n",
    "  return(occurrences)\n",
    "}"
   ]
  },
  {
   "cell_type": "code",
   "execution_count": 17,
   "metadata": {},
   "outputs": [
    {
     "data": {
      "text/html": [
       "4"
      ],
      "text/latex": [
       "4"
      ],
      "text/markdown": [
       "4"
      ],
      "text/plain": [
       "[1] 4"
      ]
     },
     "metadata": {},
     "output_type": "display_data"
    }
   ],
   "source": [
    "# Data / Answer 1:\n",
    "s = \"abc\"\n",
    "n = 10\n",
    "\n",
    "repeatedString(n = n, s = s, l = \"a\")"
   ]
  },
  {
   "cell_type": "code",
   "execution_count": 18,
   "metadata": {},
   "outputs": [
    {
     "data": {
      "text/html": [
       "0"
      ],
      "text/latex": [
       "0"
      ],
      "text/markdown": [
       "0"
      ],
      "text/plain": [
       "[1] 0"
      ]
     },
     "metadata": {},
     "output_type": "display_data"
    }
   ],
   "source": [
    "# Data / Answer 2:\n",
    "s = \"bbcc\"\n",
    "n = 7\n",
    "\n",
    "repeatedString(n = n, s = s, l = \"a\")"
   ]
  },
  {
   "cell_type": "code",
   "execution_count": 19,
   "metadata": {},
   "outputs": [
    {
     "data": {
      "text/html": [
       "9"
      ],
      "text/latex": [
       "9"
      ],
      "text/markdown": [
       "9"
      ],
      "text/plain": [
       "[1] 9"
      ]
     },
     "metadata": {},
     "output_type": "display_data"
    }
   ],
   "source": [
    "# Data / Answer 3:\n",
    "s = \"aabbbccc\"\n",
    "n = 33\n",
    "\n",
    "repeatedString(n = n, s = s, l = \"a\")"
   ]
  },
  {
   "cell_type": "code",
   "execution_count": 20,
   "metadata": {},
   "outputs": [
    {
     "data": {
      "text/html": [
       "47"
      ],
      "text/latex": [
       "47"
      ],
      "text/markdown": [
       "47"
      ],
      "text/plain": [
       "[1] 47"
      ]
     },
     "metadata": {},
     "output_type": "display_data"
    }
   ],
   "source": [
    "# Data / Answer 4:\n",
    "s = \"aaaaaaaaabbbccc\"\n",
    "n = 77\n",
    "\n",
    "repeatedString(n = n, s = s, l = \"a\")"
   ]
  }
 ],
 "metadata": {
  "kernelspec": {
   "display_name": "R",
   "language": "R",
   "name": "ir"
  },
  "language_info": {
   "codemirror_mode": "r",
   "file_extension": ".r",
   "mimetype": "text/x-r-source",
   "name": "R",
   "pygments_lexer": "r",
   "version": "3.6.1"
  }
 },
 "nbformat": 4,
 "nbformat_minor": 2
}
