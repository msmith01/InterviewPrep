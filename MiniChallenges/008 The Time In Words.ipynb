{
 "cells": [
  {
   "cell_type": "code",
   "execution_count": 1,
   "metadata": {},
   "outputs": [
    {
     "data": {
      "text/html": [
       "<ol class=list-inline>\n",
       "\t<li>'5:00'</li>\n",
       "\t<li>'17:45'</li>\n",
       "\t<li>'10:05:00'</li>\n",
       "\t<li>'5:10 pm'</li>\n",
       "\t<li>'5:01'</li>\n",
       "\t<li>'5:10:20 AM'</li>\n",
       "\t<li>'23:45:00'</li>\n",
       "\t<li>'5:10'</li>\n",
       "\t<li>'5:15'</li>\n",
       "\t<li>'5:30'</li>\n",
       "\t<li>'5:40'</li>\n",
       "\t<li>'5:45'</li>\n",
       "\t<li>'5:47'</li>\n",
       "\t<li>'5:28'</li>\n",
       "\t<li>'00:10:20'</li>\n",
       "</ol>\n"
      ],
      "text/latex": [
       "\\begin{enumerate*}\n",
       "\\item '5:00'\n",
       "\\item '17:45'\n",
       "\\item '10:05:00'\n",
       "\\item '5:10 pm'\n",
       "\\item '5:01'\n",
       "\\item '5:10:20 AM'\n",
       "\\item '23:45:00'\n",
       "\\item '5:10'\n",
       "\\item '5:15'\n",
       "\\item '5:30'\n",
       "\\item '5:40'\n",
       "\\item '5:45'\n",
       "\\item '5:47'\n",
       "\\item '5:28'\n",
       "\\item '00:10:20'\n",
       "\\end{enumerate*}\n"
      ],
      "text/markdown": [
       "1. '5:00'\n",
       "2. '17:45'\n",
       "3. '10:05:00'\n",
       "4. '5:10 pm'\n",
       "5. '5:01'\n",
       "6. '5:10:20 AM'\n",
       "7. '23:45:00'\n",
       "8. '5:10'\n",
       "9. '5:15'\n",
       "10. '5:30'\n",
       "11. '5:40'\n",
       "12. '5:45'\n",
       "13. '5:47'\n",
       "14. '5:28'\n",
       "15. '00:10:20'\n",
       "\n",
       "\n"
      ],
      "text/plain": [
       " [1] \"5:00\"       \"17:45\"      \"10:05:00\"   \"5:10 pm\"    \"5:01\"      \n",
       " [6] \"5:10:20 AM\" \"23:45:00\"   \"5:10\"       \"5:15\"       \"5:30\"      \n",
       "[11] \"5:40\"       \"5:45\"       \"5:47\"       \"5:28\"       \"00:10:20\"  "
      ]
     },
     "metadata": {},
     "output_type": "display_data"
    }
   ],
   "source": [
    "# Problem: https://www.hackerrank.com/challenges/the-time-in-words/problem\n",
    "\n",
    "shhh <- suppressPackageStartupMessages\n",
    "shhh(library(dplyr))\n",
    "shhh(library(lubridate))\n",
    "shhh(library(qdap))\n",
    "\n",
    "timestamps <-  c(\"5:00\", \"17:45\",\"10:05:00\",\"5:10 pm\", \"5:01\", \"5:10:20 AM\", \"23:45:00\",\n",
    "           \"5:10\", \"5:15\", \"5:30\", \"5:40\", \"5:45\", \"5:47\", \"5:28\", \"00:10:20\")\n",
    "\n",
    "timestamps"
   ]
  },
  {
   "cell_type": "code",
   "execution_count": 2,
   "metadata": {},
   "outputs": [
    {
     "data": {
      "text/html": [
       "<table>\n",
       "<thead><tr><th scope=col>time</th><th scope=col>TIME_character</th></tr></thead>\n",
       "<tbody>\n",
       "\t<tr><td>5:00                          </td><td>five o`clock                  </td></tr>\n",
       "\t<tr><td>17:45                         </td><td>quarter to six                </td></tr>\n",
       "\t<tr><td>10:05:00                      </td><td>five minutes past ten         </td></tr>\n",
       "\t<tr><td>5:10 pm                       </td><td>ten minutes past five         </td></tr>\n",
       "\t<tr><td>5:01                          </td><td>one minutes past five         </td></tr>\n",
       "\t<tr><td>5:10:20 AM                    </td><td>ten minutes past five         </td></tr>\n",
       "\t<tr><td>23:45:00                      </td><td>quarter to twelve             </td></tr>\n",
       "\t<tr><td>5:10                          </td><td>ten minutes past five         </td></tr>\n",
       "\t<tr><td>5:15                          </td><td>quarter past five             </td></tr>\n",
       "\t<tr><td>5:30                          </td><td>half past five                </td></tr>\n",
       "\t<tr><td>5:40                          </td><td>twenty minutes to six         </td></tr>\n",
       "\t<tr><td>5:45                          </td><td>quarter to six                </td></tr>\n",
       "\t<tr><td>5:47                          </td><td>thirteen minutes to six       </td></tr>\n",
       "\t<tr><td>5:28                          </td><td>twenty eight minutes past five</td></tr>\n",
       "\t<tr><td>00:10:20                      </td><td>ten minutes past twelve       </td></tr>\n",
       "</tbody>\n",
       "</table>\n"
      ],
      "text/latex": [
       "\\begin{tabular}{r|ll}\n",
       " time & TIME\\_character\\\\\n",
       "\\hline\n",
       "\t 5:00                           & five o`clock                  \\\\\n",
       "\t 17:45                          & quarter to six                \\\\\n",
       "\t 10:05:00                       & five minutes past ten         \\\\\n",
       "\t 5:10 pm                        & ten minutes past five         \\\\\n",
       "\t 5:01                           & one minutes past five         \\\\\n",
       "\t 5:10:20 AM                     & ten minutes past five         \\\\\n",
       "\t 23:45:00                       & quarter to twelve             \\\\\n",
       "\t 5:10                           & ten minutes past five         \\\\\n",
       "\t 5:15                           & quarter past five             \\\\\n",
       "\t 5:30                           & half past five                \\\\\n",
       "\t 5:40                           & twenty minutes to six         \\\\\n",
       "\t 5:45                           & quarter to six                \\\\\n",
       "\t 5:47                           & thirteen minutes to six       \\\\\n",
       "\t 5:28                           & twenty eight minutes past five\\\\\n",
       "\t 00:10:20                       & ten minutes past twelve       \\\\\n",
       "\\end{tabular}\n"
      ],
      "text/markdown": [
       "\n",
       "| time | TIME_character |\n",
       "|---|---|\n",
       "| 5:00                           | five o`clock                   |\n",
       "| 17:45                          | quarter to six                 |\n",
       "| 10:05:00                       | five minutes past ten          |\n",
       "| 5:10 pm                        | ten minutes past five          |\n",
       "| 5:01                           | one minutes past five          |\n",
       "| 5:10:20 AM                     | ten minutes past five          |\n",
       "| 23:45:00                       | quarter to twelve              |\n",
       "| 5:10                           | ten minutes past five          |\n",
       "| 5:15                           | quarter past five              |\n",
       "| 5:30                           | half past five                 |\n",
       "| 5:40                           | twenty minutes to six          |\n",
       "| 5:45                           | quarter to six                 |\n",
       "| 5:47                           | thirteen minutes to six        |\n",
       "| 5:28                           | twenty eight minutes past five |\n",
       "| 00:10:20                       | ten minutes past twelve        |\n",
       "\n"
      ],
      "text/plain": [
       "   time       TIME_character                \n",
       "1  5:00       five o`clock                  \n",
       "2  17:45      quarter to six                \n",
       "3  10:05:00   five minutes past ten         \n",
       "4  5:10 pm    ten minutes past five         \n",
       "5  5:01       one minutes past five         \n",
       "6  5:10:20 AM ten minutes past five         \n",
       "7  23:45:00   quarter to twelve             \n",
       "8  5:10       ten minutes past five         \n",
       "9  5:15       quarter past five             \n",
       "10 5:30       half past five                \n",
       "11 5:40       twenty minutes to six         \n",
       "12 5:45       quarter to six                \n",
       "13 5:47       thirteen minutes to six       \n",
       "14 5:28       twenty eight minutes past five\n",
       "15 00:10:20   ten minutes past twelve       "
      ]
     },
     "metadata": {},
     "output_type": "display_data"
    }
   ],
   "source": [
    "timestamps %>% \n",
    "  data.frame(time = .) %>% \n",
    "  mutate(datetime = parse_date_time(time, c(\"HMS\", \"HM\",\"IMOp\", \"IMSOp\")),\n",
    "         hour = as.double(hour(datetime)),\n",
    "         min = minute(datetime),\n",
    "         hour = case_when(hour == 0 ~ 12,\n",
    "                       hour > 12 ~ hour -12,\n",
    "                       TRUE ~ hour)) %>% \n",
    "  mutate(TIME_character = \n",
    "           case_when(min == 0 ~ paste(replace_number(hour), \"o`clock\"),\n",
    "                     min == 15 ~ paste(\"quarter past\", replace_number(hour)),\n",
    "                     min == 30 ~ paste(\"half past\", replace_number(hour)),\n",
    "                     min == 45 ~ paste(\"quarter to\", replace_number(hour + 1)),\n",
    "                     min > 30 ~ paste(replace_number(60 - min), \"minutes to\", replace_number(hour + 1)),\n",
    "                     TRUE ~ paste(replace_number(min), \"minutes past\", replace_number(hour)))) %>% \n",
    "  select(time, TIME_character)"
   ]
  }
 ],
 "metadata": {
  "kernelspec": {
   "display_name": "R",
   "language": "R",
   "name": "ir"
  },
  "language_info": {
   "codemirror_mode": "r",
   "file_extension": ".r",
   "mimetype": "text/x-r-source",
   "name": "R",
   "pygments_lexer": "r",
   "version": "3.6.1"
  }
 },
 "nbformat": 4,
 "nbformat_minor": 2
}
