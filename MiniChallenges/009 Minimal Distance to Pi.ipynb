{
 "cells": [
  {
   "cell_type": "code",
   "execution_count": 1,
   "metadata": {},
   "outputs": [],
   "source": [
    "# Problem: https://www.hackerrank.com/challenges/minimal-distance-to-pi/problem\n",
    "\n",
    "MinimalDistToPi <- function(pi_decimal, min, max) {\n",
    "  low <- floor(pi_decimal * (min:max)) / (min:max)\n",
    "  ind_i <- which.min(abs(pi_decimal - low))\n",
    "  best.low <- low[ind_i]\n",
    "  up <- ceiling(pi_decimal * (min:max)) / (min:max)\n",
    "  ind_j <- which.min(abs(pi_decimal - up))\n",
    "  best.up <- up[ind_j]\n",
    "  if(abs(pi_decimal - best.low) < abs(pi_decimal - best.up)) {\n",
    "    denominator <- min + ind_i - 1\n",
    "    numerator <- floor(pi_decimal * denominator)\n",
    "  } else {\n",
    "    denominator <- min + ind_j - 1\n",
    "    numerator <- ceiling(pi_decimal * denominator)\n",
    "  }\n",
    "  c(numerator, denominator)\n",
    "}\n",
    "\n",
    "pi_num <- as.numeric(format(pi, digits = 16))"
   ]
  },
  {
   "cell_type": "code",
   "execution_count": 7,
   "metadata": {},
   "outputs": [
    {
     "data": {
      "text/html": [
       "<ol class=list-inline>\n",
       "\t<li>22</li>\n",
       "\t<li>7</li>\n",
       "</ol>\n"
      ],
      "text/latex": [
       "\\begin{enumerate*}\n",
       "\\item 22\n",
       "\\item 7\n",
       "\\end{enumerate*}\n"
      ],
      "text/markdown": [
       "1. 22\n",
       "2. 7\n",
       "\n",
       "\n"
      ],
      "text/plain": [
       "[1] 22  7"
      ]
     },
     "metadata": {},
     "output_type": "display_data"
    }
   ],
   "source": [
    "# Solution 1: - simple\n",
    "MinimalDistToPi(pi_decimal = pi_num, min = 1, max = 10)"
   ]
  },
  {
   "cell_type": "code",
   "execution_count": 8,
   "metadata": {},
   "outputs": [
    {
     "data": {
      "text/html": [
       "<ol class=list-inline>\n",
       "\t<li>355</li>\n",
       "\t<li>113</li>\n",
       "</ol>\n"
      ],
      "text/latex": [
       "\\begin{enumerate*}\n",
       "\\item 355\n",
       "\\item 113\n",
       "\\end{enumerate*}\n"
      ],
      "text/markdown": [
       "1. 355\n",
       "2. 113\n",
       "\n",
       "\n"
      ],
      "text/plain": [
       "[1] 355 113"
      ]
     },
     "metadata": {},
     "output_type": "display_data"
    }
   ],
   "source": [
    "# Solution 2: - simple\n",
    "MinimalDistToPi(pi_decimal = pi_num, min = 74, max = 124)"
   ]
  },
  {
   "cell_type": "code",
   "execution_count": 4,
   "metadata": {},
   "outputs": [
    {
     "data": {
      "text/html": [
       "<ol class=list-inline>\n",
       "\t<li>208341</li>\n",
       "\t<li>66317</li>\n",
       "</ol>\n"
      ],
      "text/latex": [
       "\\begin{enumerate*}\n",
       "\\item 208341\n",
       "\\item 66317\n",
       "\\end{enumerate*}\n"
      ],
      "text/markdown": [
       "1. 208341\n",
       "2. 66317\n",
       "\n",
       "\n"
      ],
      "text/plain": [
       "[1] 208341  66317"
      ]
     },
     "metadata": {},
     "output_type": "display_data"
    }
   ],
   "source": [
    "# Solution 3: - more complex\n",
    "MinimalDistToPi(pi_decimal = pi_num, min = 94, max = 93392)"
   ]
  },
  {
   "cell_type": "code",
   "execution_count": 6,
   "metadata": {},
   "outputs": [
    {
     "data": {
      "text/html": [
       "<ol class=list-inline>\n",
       "\t<li>245850922</li>\n",
       "\t<li>78256779</li>\n",
       "</ol>\n"
      ],
      "text/latex": [
       "\\begin{enumerate*}\n",
       "\\item 245850922\n",
       "\\item 78256779\n",
       "\\end{enumerate*}\n"
      ],
      "text/markdown": [
       "1. 245850922\n",
       "2. 78256779\n",
       "\n",
       "\n"
      ],
      "text/plain": [
       "[1] 245850922  78256779"
      ]
     },
     "metadata": {},
     "output_type": "display_data"
    }
   ],
   "source": [
    "# Solution 4: - more complex\n",
    "MinimalDistToPi(pi_decimal = pi_num, min = 21, max = 87217821)"
   ]
  }
 ],
 "metadata": {
  "kernelspec": {
   "display_name": "R",
   "language": "R",
   "name": "ir"
  },
  "language_info": {
   "codemirror_mode": "r",
   "file_extension": ".r",
   "mimetype": "text/x-r-source",
   "name": "R",
   "pygments_lexer": "r",
   "version": "3.6.1"
  }
 },
 "nbformat": 4,
 "nbformat_minor": 2
}
