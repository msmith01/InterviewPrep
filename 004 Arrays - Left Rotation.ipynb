{
 "cells": [
  {
   "cell_type": "code",
   "execution_count": 1,
   "metadata": {},
   "outputs": [],
   "source": [
    "# Problem: https://www.hackerrank.com/challenges/ctci-array-left-rotation/problem\n",
    "\n",
    "hourglass <- function(data){\n",
    "  matrix = as.matrix(data)\n",
    "  side = sqrt(length(matrix)) # obtain length of side of the matrix (i..e just the square of the length since its a sqare)\n",
    "  hourvector = rep(-999999999, (side - 2)^2) # vector to store the hourglass solutions\n",
    "  count = 0\n",
    "  for(j in 1:(side - 2)){ # for ever hourglass starting column\n",
    "    for(i in 1:(side - 2)){ # for every hourglass starting row\n",
    "      count = count + 1 # add a counter so we store new answers in new positions in the returns vector\n",
    "      hourglass1 = sum(matrix[i, j:(j+2)])\n",
    "      hourglass2 = matrix[(i+2), j:(j+2)]\n",
    "      hourglass3 = sum(matrix[(i+1), (j+1)])\n",
    "      answer = sum(hourglass1, hourglass2, hourglass3) # sum the hourglass\n",
    "      \n",
    "      hourvector[count] = answer # store in the vector\n",
    "    }\n",
    "  }\n",
    "  return(hourvector)\n",
    "}"
   ]
  },
  {
   "cell_type": "code",
   "execution_count": 2,
   "metadata": {},
   "outputs": [
    {
     "data": {
      "text/html": [
       "<ol class=list-inline>\n",
       "\t<li>7</li>\n",
       "\t<li>2</li>\n",
       "\t<li>3</li>\n",
       "\t<li>0</li>\n",
       "\t<li>4</li>\n",
       "\t<li>2</li>\n",
       "\t<li>2</li>\n",
       "\t<li>0</li>\n",
       "\t<li>2</li>\n",
       "\t<li>0</li>\n",
       "\t<li>1</li>\n",
       "\t<li>0</li>\n",
       "\t<li>0</li>\n",
       "\t<li>0</li>\n",
       "\t<li>0</li>\n",
       "\t<li>0</li>\n",
       "</ol>\n"
      ],
      "text/latex": [
       "\\begin{enumerate*}\n",
       "\\item 7\n",
       "\\item 2\n",
       "\\item 3\n",
       "\\item 0\n",
       "\\item 4\n",
       "\\item 2\n",
       "\\item 2\n",
       "\\item 0\n",
       "\\item 2\n",
       "\\item 0\n",
       "\\item 1\n",
       "\\item 0\n",
       "\\item 0\n",
       "\\item 0\n",
       "\\item 0\n",
       "\\item 0\n",
       "\\end{enumerate*}\n"
      ],
      "text/markdown": [
       "1. 7\n",
       "2. 2\n",
       "3. 3\n",
       "4. 0\n",
       "5. 4\n",
       "6. 2\n",
       "7. 2\n",
       "8. 0\n",
       "9. 2\n",
       "10. 0\n",
       "11. 1\n",
       "12. 0\n",
       "13. 0\n",
       "14. 0\n",
       "15. 0\n",
       "16. 0\n",
       "\n",
       "\n"
      ],
      "text/plain": [
       " [1] 7 2 3 0 4 2 2 0 2 0 1 0 0 0 0 0"
      ]
     },
     "metadata": {},
     "output_type": "display_data"
    }
   ],
   "source": [
    "# Data / Answer 1:\n",
    "df1 <- read.table(text = \"\n",
    "           1 1 1 0 0 0\n",
    "           0 1 0 0 0 0\n",
    "           1 1 1 0 0 0\n",
    "           0 0 0 0 0 0\n",
    "           0 0 0 0 0 0\n",
    "           0 0 0 0 0 0\",\n",
    "           header = FALSE)\n",
    "\n",
    "hourglass(df1)"
   ]
  },
  {
   "cell_type": "code",
   "execution_count": 3,
   "metadata": {},
   "outputs": [
    {
     "data": {
      "text/html": [
       "<ol class=list-inline>\n",
       "\t<li>-63</li>\n",
       "\t<li>-10</li>\n",
       "\t<li>-27</li>\n",
       "\t<li>9</li>\n",
       "\t<li>-34</li>\n",
       "\t<li>0</li>\n",
       "\t<li>-11</li>\n",
       "\t<li>17</li>\n",
       "\t<li>-9</li>\n",
       "\t<li>28</li>\n",
       "\t<li>-2</li>\n",
       "\t<li>25</li>\n",
       "\t<li>12</li>\n",
       "\t<li>23</li>\n",
       "\t<li>10</li>\n",
       "\t<li>18</li>\n",
       "</ol>\n"
      ],
      "text/latex": [
       "\\begin{enumerate*}\n",
       "\\item -63\n",
       "\\item -10\n",
       "\\item -27\n",
       "\\item 9\n",
       "\\item -34\n",
       "\\item 0\n",
       "\\item -11\n",
       "\\item 17\n",
       "\\item -9\n",
       "\\item 28\n",
       "\\item -2\n",
       "\\item 25\n",
       "\\item 12\n",
       "\\item 23\n",
       "\\item 10\n",
       "\\item 18\n",
       "\\end{enumerate*}\n"
      ],
      "text/markdown": [
       "1. -63\n",
       "2. -10\n",
       "3. -27\n",
       "4. 9\n",
       "5. -34\n",
       "6. 0\n",
       "7. -11\n",
       "8. 17\n",
       "9. -9\n",
       "10. 28\n",
       "11. -2\n",
       "12. 25\n",
       "13. 12\n",
       "14. 23\n",
       "15. 10\n",
       "16. 18\n",
       "\n",
       "\n"
      ],
      "text/plain": [
       " [1] -63 -10 -27   9 -34   0 -11  17  -9  28  -2  25  12  23  10  18"
      ]
     },
     "metadata": {},
     "output_type": "display_data"
    }
   ],
   "source": [
    "# Data / Answer 2:\n",
    "df2 <- read.table(text = \"\n",
    "          -9 -9 -9  1 1 1 \n",
    "           0 -9  0  4 3 2\n",
    "          -9 -9 -9  1 2 3\n",
    "           0  0  8  6 6 0\n",
    "           0  0  0 -2 0 0\n",
    "           0  0  1  2 4 0\",\n",
    "           header = FALSE)\n",
    "\n",
    "hourglass(df2)"
   ]
  }
 ],
 "metadata": {
  "kernelspec": {
   "display_name": "R",
   "language": "R",
   "name": "ir"
  },
  "language_info": {
   "codemirror_mode": "r",
   "file_extension": ".r",
   "mimetype": "text/x-r-source",
   "name": "R",
   "pygments_lexer": "r",
   "version": "3.6.1"
  }
 },
 "nbformat": 4,
 "nbformat_minor": 2
}
