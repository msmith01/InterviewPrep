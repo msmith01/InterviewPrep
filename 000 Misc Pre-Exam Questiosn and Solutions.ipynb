{
 "cells": [
  {
   "cell_type": "markdown",
   "metadata": {},
   "source": [
    "# A number of micelaneous pre-exam questions"
   ]
  },
  {
   "cell_type": "code",
   "execution_count": 8,
   "metadata": {},
   "outputs": [],
   "source": [
    "# Question 1:\n",
    "# Find the Number, given an array of numbers find the number k\n",
    "findNumber <- function(arr, k){\n",
    "  if(k %in% arr){ print(\"Yes\")\n",
    "  }else {print(\"No\")\n",
    "  }\n",
    "}"
   ]
  },
  {
   "cell_type": "code",
   "execution_count": 9,
   "metadata": {},
   "outputs": [
    {
     "name": "stdout",
     "output_type": "stream",
     "text": [
      "[1] \"Yes\"\n",
      "[1] \"No\"\n"
     ]
    }
   ],
   "source": [
    "# Data / Answer 1 - to Question 1:\n",
    "arr <- c(1, 2, 3, 4, 5, 6, 7, 8, 9, 10)\n",
    "findNumber(arr, k = 9)\n",
    "findNumber(arr, k = 11)"
   ]
  },
  {
   "cell_type": "code",
   "execution_count": 10,
   "metadata": {},
   "outputs": [
    {
     "name": "stdout",
     "output_type": "stream",
     "text": [
      "[1] \"No\"\n",
      "[1] \"Yes\"\n"
     ]
    }
   ],
   "source": [
    "# Data / Answer 2 - to Question 1:\n",
    "arr <- c(70, 10, 23, 45, 78, 30, 77)\n",
    "findNumber(arr, k = 9)\n",
    "findNumber(arr, k = 77)"
   ]
  },
  {
   "cell_type": "code",
   "execution_count": 11,
   "metadata": {},
   "outputs": [
    {
     "data": {
      "text/html": [
       "'Yes'"
      ],
      "text/latex": [
       "'Yes'"
      ],
      "text/markdown": [
       "'Yes'"
      ],
      "text/plain": [
       "[1] \"Yes\""
      ]
     },
     "metadata": {},
     "output_type": "display_data"
    },
    {
     "data": {
      "text/html": [
       "'No'"
      ],
      "text/latex": [
       "'No'"
      ],
      "text/markdown": [
       "'No'"
      ],
      "text/plain": [
       "[1] \"No\""
      ]
     },
     "metadata": {},
     "output_type": "display_data"
    }
   ],
   "source": [
    "# A simpler solution to Question 1:\n",
    "findNumber2 <- function(arr, k){\n",
    "  ifelse(k %in% arr, \"Yes\", \"No\")\n",
    "}\n",
    "\n",
    "# Data / Answer 1 - to Question 1:\n",
    "arr <- c(1, 2, 3, 4, 5, 6, 7, 8, 9, 10)\n",
    "findNumber2(arr, k = 9)\n",
    "findNumber2(arr, k = 11)"
   ]
  },
  {
   "cell_type": "code",
   "execution_count": 12,
   "metadata": {},
   "outputs": [],
   "source": [
    "# Question 2: Given two values find all the odd numbers between them and including the start and end values\n",
    "# Print odd numbers between values\n",
    "\n",
    "OddNumbers <- function(start, end){\n",
    "  s <- seq(from = start, to = end)\n",
    "  for (i in s) {\n",
    "    if (i %% 2 == 1) print(i)\n",
    "  }\n",
    "}"
   ]
  },
  {
   "cell_type": "code",
   "execution_count": 17,
   "metadata": {},
   "outputs": [
    {
     "name": "stdout",
     "output_type": "stream",
     "text": [
      "[1] 3\n",
      "[1] 5\n",
      "[1] 7\n",
      "[1] 9\n"
     ]
    }
   ],
   "source": [
    "# Data / Answer 1 - to Question 2:\n",
    "OddNumbers(start = 3, end = 9)"
   ]
  },
  {
   "cell_type": "code",
   "execution_count": 19,
   "metadata": {},
   "outputs": [
    {
     "name": "stdout",
     "output_type": "stream",
     "text": [
      "[1] 99\n",
      "[1] 101\n",
      "[1] 103\n"
     ]
    }
   ],
   "source": [
    "# Data / Answer 2 - to Question 2:\n",
    "OddNumbers(start = 99, end = 103)"
   ]
  },
  {
   "cell_type": "code",
   "execution_count": 20,
   "metadata": {},
   "outputs": [
    {
     "name": "stdout",
     "output_type": "stream",
     "text": [
      "[1] 11\n",
      "[1] 13\n",
      "[1] 15\n",
      "[1] 17\n",
      "[1] 19\n",
      "[1] 21\n"
     ]
    }
   ],
   "source": [
    "# Data / Answer 3 - to Question 2:\n",
    "OddNumbers(start = 10, end = 22)"
   ]
  },
  {
   "cell_type": "code",
   "execution_count": 21,
   "metadata": {},
   "outputs": [
    {
     "data": {
      "text/html": [
       "15"
      ],
      "text/latex": [
       "15"
      ],
      "text/markdown": [
       "15"
      ],
      "text/plain": [
       "[1] 15"
      ]
     },
     "metadata": {},
     "output_type": "display_data"
    }
   ],
   "source": [
    "# Question 3:\n",
    "# Write a program that adds two numbers prints the sum out.\n",
    "myAdder <- function(num_1, num_2){\n",
    "  myOutput <- num_1 + num_2\n",
    "  return(myOutput)\n",
    "}\n",
    "\n",
    "myAdder(num_1 = 5, num_2 = 10)"
   ]
  }
 ],
 "metadata": {
  "kernelspec": {
   "display_name": "R",
   "language": "R",
   "name": "ir"
  },
  "language_info": {
   "codemirror_mode": "r",
   "file_extension": ".r",
   "mimetype": "text/x-r-source",
   "name": "R",
   "pygments_lexer": "r",
   "version": "3.6.1"
  }
 },
 "nbformat": 4,
 "nbformat_minor": 2
}
