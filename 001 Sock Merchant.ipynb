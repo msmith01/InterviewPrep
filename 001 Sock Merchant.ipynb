{
 "cells": [
  {
   "cell_type": "code",
   "execution_count": 2,
   "metadata": {},
   "outputs": [
    {
     "data": {
      "text/html": [
       "<ol class=list-inline>\n",
       "\t<li>10</li>\n",
       "\t<li>20</li>\n",
       "\t<li>20</li>\n",
       "\t<li>30</li>\n",
       "\t<li>30</li>\n",
       "\t<li>30</li>\n",
       "\t<li>40</li>\n",
       "\t<li>50</li>\n",
       "\t<li>50</li>\n",
       "\t<li>50</li>\n",
       "\t<li>70</li>\n",
       "\t<li>70</li>\n",
       "\t<li>70</li>\n",
       "</ol>\n"
      ],
      "text/latex": [
       "\\begin{enumerate*}\n",
       "\\item 10\n",
       "\\item 20\n",
       "\\item 20\n",
       "\\item 30\n",
       "\\item 30\n",
       "\\item 30\n",
       "\\item 40\n",
       "\\item 50\n",
       "\\item 50\n",
       "\\item 50\n",
       "\\item 70\n",
       "\\item 70\n",
       "\\item 70\n",
       "\\end{enumerate*}\n"
      ],
      "text/markdown": [
       "1. 10\n",
       "2. 20\n",
       "3. 20\n",
       "4. 30\n",
       "5. 30\n",
       "6. 30\n",
       "7. 40\n",
       "8. 50\n",
       "9. 50\n",
       "10. 50\n",
       "11. 70\n",
       "12. 70\n",
       "13. 70\n",
       "\n",
       "\n"
      ],
      "text/plain": [
       " [1] 10 20 20 30 30 30 40 50 50 50 70 70 70"
      ]
     },
     "metadata": {},
     "output_type": "display_data"
    }
   ],
   "source": [
    "# Problem: https://www.hackerrank.com/challenges/sock-merchant/problem\n",
    "n <- 9\n",
    "ar <- c(10, 20, 20, 30, 30, 30, 40, 50, 50, 50, 70, 70, 70)\n",
    "ar"
   ]
  },
  {
   "cell_type": "code",
   "execution_count": 3,
   "metadata": {},
   "outputs": [
    {
     "data": {
      "text/html": [
       "4"
      ],
      "text/latex": [
       "4"
      ],
      "text/markdown": [
       "4"
      ],
      "text/plain": [
       "[1] 4"
      ]
     },
     "metadata": {},
     "output_type": "display_data"
    }
   ],
   "source": [
    "# Solution 1:\n",
    "\n",
    "Sock_Merchant <- function(n, ar){\n",
    "  RealLengthEncoding = rle(ar)\n",
    "  Values = with(RealLengthEncoding, values[lengths >= 2])\n",
    "  out = length(Values)\n",
    "  return(out)\n",
    "}\n",
    "\n",
    "Sock_Merchant(n = NULL, ar)"
   ]
  },
  {
   "cell_type": "code",
   "execution_count": 4,
   "metadata": {},
   "outputs": [
    {
     "data": {
      "text/html": [
       "4"
      ],
      "text/latex": [
       "4"
      ],
      "text/markdown": [
       "4"
      ],
      "text/plain": [
       "[1] 4"
      ]
     },
     "metadata": {},
     "output_type": "display_data"
    }
   ],
   "source": [
    "# Alternatively a much simpler method is:\n",
    "sum(table(ar) >= 2)"
   ]
  },
  {
   "cell_type": "code",
   "execution_count": 5,
   "metadata": {},
   "outputs": [
    {
     "data": {
      "text/html": [
       "4"
      ],
      "text/latex": [
       "4"
      ],
      "text/markdown": [
       "4"
      ],
      "text/plain": [
       "[1] 4"
      ]
     },
     "metadata": {},
     "output_type": "display_data"
    }
   ],
   "source": [
    "Sock_Merchant2 <- function(n, ar){\n",
    "  tbl_ar = table(ar)\n",
    "  tbl_ar = tbl_ar / 2\n",
    "  tbl_ar = floor(tbl_ar)\n",
    "  return(sum(tbl_ar))\n",
    "}\n",
    "\n",
    "Sock_Merchant2(n = NULL, ar)"
   ]
  }
 ],
 "metadata": {
  "kernelspec": {
   "display_name": "R",
   "language": "R",
   "name": "ir"
  },
  "language_info": {
   "codemirror_mode": "r",
   "file_extension": ".r",
   "mimetype": "text/x-r-source",
   "name": "R",
   "pygments_lexer": "r",
   "version": "3.6.1"
  }
 },
 "nbformat": 4,
 "nbformat_minor": 2
}
